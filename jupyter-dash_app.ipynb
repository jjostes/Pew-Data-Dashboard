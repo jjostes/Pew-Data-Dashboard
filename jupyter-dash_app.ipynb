{
 "cells": [
  {
   "cell_type": "code",
   "execution_count": 10,
   "metadata": {},
   "outputs": [],
   "source": [
    "import plotly.express as px\n",
    "from jupyter_dash import JupyterDash\n",
    "import dash_core_components as dcc\n",
    "import dash_html_components as html\n",
    "from dash.dependencies import Input, Output\n",
    "\n",
    "import pandas as pd\n",
    "import numpy as np\n",
    "import pyreadstat\n",
    "import re\n"
   ]
  },
  {
   "cell_type": "code",
   "execution_count": 6,
   "metadata": {
    "scrolled": true
   },
   "outputs": [],
   "source": [
    "# Load Data\n",
    "fpath = 'data/ATP W42.sav'\n",
    "\n",
    "df, meta = pyreadstat.read_sav(fpath)"
   ]
  },
  {
   "cell_type": "code",
   "execution_count": 7,
   "metadata": {},
   "outputs": [],
   "source": [
    "# Used meta.column_names to find questionnaire items with subject matter grouping (e.g. starts with 'RQ')\n",
    "# Added to lists to use later on\n",
    "\n",
    "past_future = ['PAST_W42', 'FUTURE_W42']\n",
    "society = ['SC1_W42']\n",
    "policy = [i for i in df.columns if 'POLICY' in i]\n",
    "confidence = [i for i in df.columns if 'CONF' in i]\n",
    "rq_form1 = [i for i in df.columns if 'RQ' in i]\n",
    "pw_form2 = [i for i in df.columns if 'PQ' in i]\n",
    "scm = [i for i in df.columns if 'SCM' in i]\n",
    "q = [i for i in df.columns if re.search(\"^Q[0-9]\", i)]\n",
    "pop = [i for i in df.columns if 'POP' in i]\n",
    "knowledge = [i for i in df.columns if 'KNOW' in i]\n",
    "demographics = [i for i in df.columns if 'F_' in i]\n",
    "weight = ['WEIGHT_W42']"
   ]
  },
  {
   "cell_type": "code",
   "execution_count": 8,
   "metadata": {},
   "outputs": [],
   "source": [
    "# Dictionary of column names (abbreviations) and corresponding column values (instruction on questionnaire)\n",
    "# Example\n",
    "\n",
    "meta_dict = dict(zip(meta.column_names, meta.column_labels))"
   ]
  },
  {
   "cell_type": "markdown",
   "metadata": {},
   "source": [
    "##### Example: \n",
    "meta_dict['SC1_W42']\n",
    "##### Output:\n",
    "'SC1. Overall, would you say science has had a mostly positive effect on our society or a mostly negative effect on our society?'"
   ]
  },
  {
   "cell_type": "code",
   "execution_count": 11,
   "metadata": {},
   "outputs": [],
   "source": [
    "# Changes the values in the dataframe according to the value formats in the metadata.\n",
    "# Because the data is Categorical or Ordinal, any functions we perform won't require the original float values\n",
    "\n",
    "df_copy = pyreadstat.pyreadstat.set_value_labels(df, meta)"
   ]
  },
  {
   "cell_type": "code",
   "execution_count": 43,
   "metadata": {},
   "outputs": [],
   "source": [
    "# This function returns a cross tabulation of weighted frequencies for the given variables\n",
    "\n",
    "def crosstab_frequency(array1, array2):\n",
    "    return pd.crosstab(df_copy[array1],\n",
    "                df_copy[array2],\n",
    "                df_copy.WEIGHT_W42, aggfunc = sum, dropna=True,\n",
    "                normalize='columns').loc[meta.variable_value_labels[array1].values(), \n",
    "                                         meta.variable_value_labels[array2].values()]"
   ]
  },
  {
   "cell_type": "code",
   "execution_count": null,
   "metadata": {},
   "outputs": [],
   "source": []
  },
  {
   "cell_type": "code",
   "execution_count": null,
   "metadata": {},
   "outputs": [],
   "source": []
  },
  {
   "cell_type": "code",
   "execution_count": null,
   "metadata": {},
   "outputs": [],
   "source": []
  },
  {
   "cell_type": "code",
   "execution_count": null,
   "metadata": {},
   "outputs": [],
   "source": []
  },
  {
   "cell_type": "code",
   "execution_count": null,
   "metadata": {},
   "outputs": [],
   "source": []
  },
  {
   "cell_type": "code",
   "execution_count": 3,
   "metadata": {},
   "outputs": [
    {
     "data": {
      "text/html": [
       "\n",
       "        <iframe\n",
       "            width=\"100%\"\n",
       "            height=\"650\"\n",
       "            src=\"http://127.0.0.1:8050/\"\n",
       "            frameborder=\"0\"\n",
       "            allowfullscreen\n",
       "        ></iframe>\n",
       "        "
      ],
      "text/plain": [
       "<IPython.lib.display.IFrame at 0x7fde4c040a50>"
      ]
     },
     "metadata": {},
     "output_type": "display_data"
    }
   ],
   "source": [
    "# Build App\n",
    "app = JupyterDash(__name__)\n",
    "app.layout = html.Div([\n",
    "    html.H1(\"Science and Society\"),\n",
    "    dcc.Graph(id='graph'),\n",
    "    html.Label([\n",
    "        \"colorscale\",\n",
    "        dcc.Dropdown(\n",
    "            id='colorscale-dropdown', clearable=False,\n",
    "            value='plasma', options=[\n",
    "                {'label': c, 'value': c}\n",
    "                for c in px.colors.named_colorscales()\n",
    "            ])\n",
    "    ]),\n",
    "])\n",
    "\n",
    "\n",
    "# Run app and display result inline in the notebook\n",
    "app.run_server(mode='inline')"
   ]
  },
  {
   "cell_type": "code",
   "execution_count": null,
   "metadata": {},
   "outputs": [],
   "source": []
  }
 ],
 "metadata": {
  "kernelspec": {
   "display_name": "Python 3",
   "language": "python",
   "name": "python3"
  },
  "language_info": {
   "codemirror_mode": {
    "name": "ipython",
    "version": 3
   },
   "file_extension": ".py",
   "mimetype": "text/x-python",
   "name": "python",
   "nbconvert_exporter": "python",
   "pygments_lexer": "ipython3",
   "version": "3.7.7"
  }
 },
 "nbformat": 4,
 "nbformat_minor": 4
}
