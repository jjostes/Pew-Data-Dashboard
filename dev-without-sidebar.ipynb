{
 "cells": [
  {
   "cell_type": "code",
   "execution_count": 144,
   "metadata": {},
   "outputs": [],
   "source": [
    "from jupyter_dash import JupyterDash\n",
    "import dash_core_components as dcc\n",
    "import dash_bootstrap_components as dbc\n",
    "import dash_html_components as html\n",
    "from dash.dependencies import Input, Output, State\n",
    "import plotly.express as px\n",
    "\n",
    "import pandas as pd\n",
    "import numpy as np\n",
    "import pyreadstat\n",
    "import re\n",
    "\n",
    "\n",
    "\n",
    "# load data\n",
    "fpath = 'data/ATP W42.sav'\n",
    "\n",
    "df, meta = pyreadstat.read_sav(fpath)\n",
    "\n",
    "df_copy = pyreadstat.pyreadstat.set_value_labels(df, meta)"
   ]
  },
  {
   "cell_type": "code",
   "execution_count": 18,
   "metadata": {},
   "outputs": [],
   "source": [
    "\"\"\" \n",
    "data cleaning, transformation\n",
    "\n",
    "\"\"\"\n",
    "\n",
    "# regular expression that matches with every character up until the first whitespace character.\n",
    "pattern = re.compile(r'.+?\\.\\s?')\n",
    "\n",
    "label_dict = {}\n",
    "\n",
    "for key, value in meta.column_names_to_labels.items():\n",
    "    label_dict[key] = re.sub(pattern=pattern, string=value, repl=' ')\n",
    "\n",
    "\n",
    "# helper function used to sort survey items according to thematic subject matter code (e.g. starts with 'RQ')\n",
    "def list_helper(theme_code):\n",
    "    return [i for i in df.columns if theme_code in i]\n",
    "\n",
    "\n",
    "past_future = ['PAST_W42', 'FUTURE_W42', 'SC1_W42']\n",
    "policy = list_helper('POLICY')\n",
    "confidence = list_helper('CONF')\n",
    "rq_form1 = list_helper('RQ')\n",
    "pw_form2 = list_helper('PQ')\n",
    "scm4 = list_helper('SCM4')\n",
    "scm5 = list_helper('SCM5')\n",
    "q = [i for i in df.columns if re.search(\"^Q[0-9]\", i)] #regex to grab Q6, Q7, etc.\n",
    "pop = list_helper('POP')\n",
    "knowledge = list_helper('KNOW')\n",
    "demographics = list_helper('F_')\n",
    "weight = ['WEIGHT_W42']\n",
    "\n",
    "\n",
    "# dictionary of column names to be used with the dcc.Dropdown() property 'options'\n",
    "policy_dropdown = [{'label': v, 'value': k} for k,v in label_dict.items() if k in policy]\n",
    "\n",
    "demo_dropdown = [{'label': v, 'value': k} for k,v in label_dict.items() if k in demographics]\n"
   ]
  },
  {
   "cell_type": "code",
   "execution_count": 141,
   "metadata": {},
   "outputs": [
    {
     "ename": "SyntaxError",
     "evalue": "invalid syntax (<ipython-input-141-fb0be0b6c1a8>, line 1)",
     "output_type": "error",
     "traceback": [
      "\u001b[0;36m  File \u001b[0;32m\"<ipython-input-141-fb0be0b6c1a8>\"\u001b[0;36m, line \u001b[0;32m1\u001b[0m\n\u001b[0;31m    help(.strip())\u001b[0m\n\u001b[0m         ^\u001b[0m\n\u001b[0;31mSyntaxError\u001b[0m\u001b[0;31m:\u001b[0m invalid syntax\n"
     ]
    }
   ],
   "source": []
  },
  {
   "cell_type": "code",
   "execution_count": 103,
   "metadata": {},
   "outputs": [],
   "source": [
    "# function generates a static bar chart to be used as visuals\n",
    "def frequency_chart(array1, array2):\n",
    "    temp_df = pd.crosstab(df_copy[array1],\n",
    "                       df_copy[array2],\n",
    "                       df_copy.WEIGHT_W42, aggfunc = sum, dropna=True,\n",
    "                       normalize='index').\\\n",
    "                       loc[meta.variable_value_labels[array1].values()].\\\n",
    "                       loc[:, meta.variable_value_labels[array2].values()]*100\n",
    "    \n",
    "    fig = px.bar(temp_df, x=temp_df.index, y=temp_df.columns )\n",
    "\n",
    "    fig.update_layout(\n",
    "        title={\n",
    "            'text': label_dict[array2],\n",
    "            'y':1,\n",
    "            'x':0.5,\n",
    "            'xanchor': 'center',\n",
    "            'yanchor': 'top',\n",
    "            'font':dict(\n",
    "                size=12)},\n",
    "        \n",
    "        xaxis_title=\"Frequency (%)\",\n",
    "        yaxis_title=None,\n",
    "        legend=dict(\n",
    "            title=label_dict[array2],\n",
    "            yanchor=\"bottom\",\n",
    "            y= .9,\n",
    "            xanchor=\"center\",\n",
    "            x=0)\n",
    "        )\n",
    "    \n",
    "    \n",
    "    return fig"
   ]
  },
  {
   "cell_type": "markdown",
   "metadata": {},
   "source": [
    "#### Want to use the following cell for something..."
   ]
  },
  {
   "cell_type": "code",
   "execution_count": 171,
   "metadata": {
    "scrolled": false
   },
   "outputs": [
    {
     "data": {
      "text/plain": [
       "[{'label': 'Metropolitan area indicator coded from FIPS', 'value': 'F_METRO'},\n",
       " {'label': 'Census region based on self-reported zipcode',\n",
       "  'value': 'F_CREGION'},\n",
       " {'label': 'Age category', 'value': 'F_AGECAT'},\n",
       " {'label': 'Sex', 'value': 'F_SEX'},\n",
       " {'label': 'Education level category', 'value': 'F_EDUCCAT'},\n",
       " {'label': 'Education level category 2', 'value': 'F_EDUCCAT2'},\n",
       " {'label': ' Are you of Hispanic, Latino, or Spanish origin, such as Mexican, Puerto Rican or Cuban? - Includes RACE backcodes',\n",
       "  'value': 'F_HISP'},\n",
       " {'label': 'Combining race', 'value': 'F_RACECMB'},\n",
       " {'label': 'Race-Ethnicity', 'value': 'F_RACETHN'},\n",
       " {'label': ' Where were you born?', 'value': 'F_NATIVITY'},\n",
       " {'label': 'Citizenship', 'value': 'F_CITIZEN'},\n",
       " {'label': 'Marital status', 'value': 'F_MARITAL'},\n",
       " {'label': 'Religion', 'value': 'F_RELIG'},\n",
       " {'label': ' Would you describe yourself as a born-again or evangelical Christian, or not?',\n",
       "  'value': 'F_BORN'},\n",
       " {'label': 'Religious service attendance', 'value': 'F_ATTEND'},\n",
       " {'label': 'Party', 'value': 'F_PARTY_FINAL'},\n",
       " {'label': 'Party Lean', 'value': 'F_PARTYLN_FINAL'},\n",
       " {'label': 'Party summary', 'value': 'F_PARTYSUM_FINAL'},\n",
       " {'label': 'Family income', 'value': 'F_INCOME'},\n",
       " {'label': 'Family income recoded', 'value': 'F_INCOME_RECODE'},\n",
       " {'label': 'Registered voter', 'value': 'F_REG'},\n",
       " {'label': 'Ideology', 'value': 'F_IDEO'},\n",
       " {'label': 'Household internet status', 'value': 'F_ACSWEB'},\n",
       " {'label': 'Volunteerism status', 'value': 'F_VOLSUM'}]"
      ]
     },
     "execution_count": 171,
     "metadata": {},
     "output_type": "execute_result"
    }
   ],
   "source": [
    "# for k, v in meta.variable_value_labels.items():\n",
    "#     print(f'''{meta.column_names_to_labels[k]}:\n",
    "#     {v}\n",
    "    \n",
    "#     ''')\n",
    "demo_dropdown"
   ]
  },
  {
   "cell_type": "code",
   "execution_count": 243,
   "metadata": {
    "scrolled": true
   },
   "outputs": [
    {
     "data": {
      "text/plain": [
       "[{'label': 'PAST_W42', 'value': 'PAST_W42'},\n",
       " {'label': 'FUTURE_W42', 'value': 'FUTURE_W42'},\n",
       " {'label': 'SC1_W42', 'value': 'SC1_W42'}]"
      ]
     },
     "execution_count": 243,
     "metadata": {},
     "output_type": "execute_result"
    }
   ],
   "source": [
    "theme_categories = ['Social impact of scientific developments',\n",
    "                    'Policy decisions on scientific issues',\n",
    "                    'Confidence in public figures',\n",
    "                    'Opinions on Medical, Environmental & Nutrition research scientists',\n",
    "                    'Opinions on Medical Doctors, Environmental Health Specialists & Dieticians',\n",
    "                    'Importance of scientific issues',\n",
    "                    'Opinions on research scientists',\n",
    "                    'Questions regarding scientific research',\n",
    "                    'Solving the countires problems',\n",
    "                    'General scientific knowledge']\n",
    "\n",
    "theme_labels = [society, policy, confidence, rq_form1, pw_form2, scm4, scm5, q, pop, knowledge]\n",
    "\n",
    "theme_select_dropdown = dict(zip(theme_categories, theme_labels))\n",
    "\n",
    "[{'label': k, 'value': k} for k in theme_select_dropdown.keys()]\n",
    "[{'label': i, 'value': i} for i in theme_select_dropdown['Social impact of scientific developments']]"
   ]
  },
  {
   "cell_type": "code",
   "execution_count": 250,
   "metadata": {
    "scrolled": true
   },
   "outputs": [
    {
     "name": "stdout",
     "output_type": "stream",
     "text": [
      "Dash app running on http://127.0.0.1:8050/\n"
     ]
    }
   ],
   "source": [
    "    \"\"\"\n",
    "Dash app\n",
    "\n",
    "\"\"\"\n",
    "\n",
    "app = JupyterDash(__name__, assets_ignore='.*bootstrap-journal.css.*')\n",
    "\n",
    "layout = html.Div([\n",
    "        dbc.Container([\n",
    "            dbc.NavbarSimple(\n",
    "                brand=\"Science and Society\",\n",
    "                brand_href=\"#\",\n",
    "                color=\"primary\",\n",
    "                dark=True,\n",
    "                fluid=True\n",
    "            ),\n",
    "            html.Br(),\n",
    "\n",
    "            dbc.Row([\n",
    "                dbc.Col(\n",
    "                    [html.H4(\"Introduction\"),\n",
    "                     html.P(\"\"\"\\\n",
    "                     In 2019, the Pew Research Center conducted a survey of 4,464 adults living in households\n",
    "                     in the United States. Part of their American Trends Panel, the survey measured respondent\n",
    "                     attitudes regarding a number of topics, from trust in researchers and the scientific process\n",
    "                     to whether or not scientists should be involved with guiding public policy decisions.\n",
    "                     This dashboard's purpose is to provide the user with the ability to examine theses trends themselves.\n",
    "                    \"\"\")\n",
    "                    ],\n",
    "                    lg=8,\n",
    "                )\n",
    "            ]),\n",
    "            html.Br(),\n",
    "            html.H4(children=['Exploring by demographic']),\n",
    "            html.Hr(),\n",
    "            \n",
    "            html.Div([\n",
    "                dbc.Row([\n",
    "                    dbc.Col([\n",
    "                        dcc.Dropdown(\n",
    "                            id = 'xaxis-column',\n",
    "                            options = demo_dropdown,\n",
    "                            value = 'F_AGECAT'\n",
    "                        ),\n",
    "                    ]),\n",
    "                    dbc.Col([\n",
    "                        dcc.Dropdown(\n",
    "                            id = 'theme-selection',\n",
    "                            options = [{'label': k, 'value': k} for k in theme_select_dropdown.keys()],\n",
    "                            value = 'Social impact of scientific developments'\n",
    "                        )\n",
    "                    ])\n",
    "                ]),\n",
    "                \n",
    "                dbc.Row([\n",
    "                    dbc.Col([\n",
    "                        dcc.Graph(id='indicator-bar',\n",
    "                                  config={'displayModeBar': False})\n",
    "                        ]),\n",
    "                    dbc.Col([\n",
    "                        dcc.RadioItems(id='yaxis-column',\n",
    "                                      value = 'PAST_W42')\n",
    "                    ])\n",
    "                ])\n",
    "            ]),\n",
    "        ])\n",
    "\n",
    "])\n",
    "\n",
    "\n",
    "app.layout = layout\n",
    "\n",
    "\n",
    "@app.callback(\n",
    "    Output('yaxis-column', 'options'),\n",
    "    [Input('theme-selection', 'value')])\n",
    "def set_theme_options(selected_theme):\n",
    "        return [{'label': i, 'value': i} for i in theme_select_dropdown[selected_theme]]\n",
    "\n",
    "\n",
    "@app.callback(\n",
    "    Output('indicator-bar', 'figure'),\n",
    "    [Input('xaxis-column', 'value'),\n",
    "     Input('yaxis-column', 'value')])\n",
    "def update_graph(x_axis, y_axis):\n",
    "        new_df = pd.crosstab(df_copy[x_axis],\n",
    "                             df_copy[y_axis],\n",
    "                             df_copy.WEIGHT_W42, aggfunc = sum, dropna=True,\n",
    "                             normalize='index'). \\\n",
    "                             loc[meta.variable_value_labels[x_axis].values()]. \\\n",
    "                             loc[:, meta.variable_value_labels[y_axis].values()]*100\n",
    "\n",
    "        fig = px.bar(new_df, x=new_df.columns, y=new_df.index )\n",
    "\n",
    "        fig.update_layout(\n",
    "            title={\n",
    "                'text': None,\n",
    "                'y':1,\n",
    "                'x':0.5,\n",
    "                'xanchor': 'center',\n",
    "                'yanchor': 'top',\n",
    "                'font':{\n",
    "                    'size':18}},\n",
    "\n",
    "            margin=dict(l=20, r=20, t=20, b=20),\n",
    "\n",
    "            xaxis_title=\"Frequency (%)\",\n",
    "            yaxis_title=None,\n",
    "            legend=dict(\n",
    "                title=None,\n",
    "                yanchor=\"bottom\",\n",
    "                y= .9,\n",
    "                xanchor=\"center\",\n",
    "                x=0\n",
    "            ))\n",
    "\n",
    "        return fig\n",
    "\n",
    "\n",
    "\n",
    "\n",
    "\n",
    "\n",
    "if __name__ == '__main__':\n",
    "        app.run_server(debug=True)"
   ]
  },
  {
   "cell_type": "code",
   "execution_count": null,
   "metadata": {},
   "outputs": [],
   "source": [
    "# @app.callback(\n",
    "#     Output('yaxis-column', 'value'),\n",
    "#     [Input('yaxis-column', 'options')])\n",
    "# def set_theme_value(available_options):\n",
    "#         return available_options[0]['value']\n",
    "    \n",
    "    \n",
    "# @app.callback(\n",
    "#     Output('display-selected-values', 'children'),\n",
    "#     [Input('countries-radio', 'value'),\n",
    "#      Input('cities-radio', 'value')])\n",
    "# def set_display_children(selected_country, selected_city):\n",
    "#         return u'{} is a city in {}'.format(selected_city, selected_country)"
   ]
  },
  {
   "cell_type": "markdown",
   "metadata": {},
   "source": [
    "### TEMPORARY PLACEMENT OF GRAPH CALLBACK"
   ]
  },
  {
   "cell_type": "code",
   "execution_count": null,
   "metadata": {},
   "outputs": [],
   "source": []
  },
  {
   "cell_type": "code",
   "execution_count": null,
   "metadata": {},
   "outputs": [],
   "source": []
  }
 ],
 "metadata": {
  "kernelspec": {
   "display_name": "Python 3",
   "language": "python",
   "name": "python3"
  },
  "language_info": {
   "codemirror_mode": {
    "name": "ipython",
    "version": 3
   },
   "file_extension": ".py",
   "mimetype": "text/x-python",
   "name": "python",
   "nbconvert_exporter": "python",
   "pygments_lexer": "ipython3",
   "version": "3.8.3"
  }
 },
 "nbformat": 4,
 "nbformat_minor": 4
}
