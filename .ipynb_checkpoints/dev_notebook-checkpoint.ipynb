{
 "cells": [
  {
   "cell_type": "code",
   "execution_count": 1,
   "metadata": {},
   "outputs": [],
   "source": [
    "import pandas as pd\n",
    "import numpy as np\n",
    "import scipy.stats as stats\n",
    "import pyreadstat\n",
    "import re"
   ]
  },
  {
   "cell_type": "code",
   "execution_count": 2,
   "metadata": {
    "scrolled": true
   },
   "outputs": [],
   "source": [
    "fpath = 'data/ATP W42.sav'\n",
    "\n",
    "df, meta = pyreadstat.read_sav(fpath)"
   ]
  },
  {
   "cell_type": "code",
   "execution_count": 3,
   "metadata": {},
   "outputs": [],
   "source": [
    "# Used meta.column_names to find questionnaire items with subject matter grouping (e.g. starts with 'RQ')\n",
    "# Added to lists to use later on\n",
    "\n",
    "past_future = ['PAST_W42', 'FUTURE_W42']\n",
    "society = ['SC1_W42']\n",
    "policy = [i for i in df.columns if 'POLICY' in i]\n",
    "confidence = [i for i in df.columns if 'CONF' in i]\n",
    "rq_form1 = [i for i in df.columns if 'RQ' in i]\n",
    "pw_form2 = [i for i in df.columns if 'PQ' in i]\n",
    "scm = [i for i in df.columns if 'SCM' in i]\n",
    "q = [i for i in df.columns if re.search(\"^Q[0-9]\", i)]\n",
    "pop = [i for i in df.columns if 'POP' in i]\n",
    "knowledge = [i for i in df.columns if 'KNOW' in i]\n",
    "demographics = [i for i in df.columns if 'F_' in i]\n",
    "weight = ['WEIGHT_W42']"
   ]
  },
  {
   "cell_type": "code",
   "execution_count": 4,
   "metadata": {},
   "outputs": [],
   "source": [
    "# Dictionary of column names (abbreviations) and corresponding column values (instruction on questionnaire)\n",
    "# Example\n",
    "\n",
    "meta_dict = dict(zip(meta.column_names, meta.column_labels))"
   ]
  },
  {
   "cell_type": "markdown",
   "metadata": {},
   "source": [
    "##### Example: \n",
    "meta_dict['SC1_W42']\n",
    "##### Output:\n",
    "'SC1. Overall, would you say science has had a mostly positive effect on our society or a mostly negative effect on our society?'"
   ]
  },
  {
   "cell_type": "code",
   "execution_count": null,
   "metadata": {},
   "outputs": [],
   "source": []
  },
  {
   "cell_type": "code",
   "execution_count": 5,
   "metadata": {},
   "outputs": [],
   "source": [
    "df_copy = pyreadstat.pyreadstat.set_value_labels(df, meta)"
   ]
  },
  {
   "cell_type": "code",
   "execution_count": 6,
   "metadata": {
    "scrolled": false
   },
   "outputs": [
    {
     "data": {
      "text/plain": [
       "['Trust the research findings MORE', 'Makes NO DIFFERENCE either way', NaN, NaN, 'Refused', ..., NaN, 'Trust the research findings MORE', NaN, 'Trust the research findings MORE', NaN]\n",
       "Length: 4464\n",
       "Categories (4, object): ['Makes NO DIFFERENCE either way', 'Refused', 'Trust the research findings LESS', 'Trust the research findings MORE']"
      ]
     },
     "execution_count": 6,
     "metadata": {},
     "output_type": "execute_result"
    }
   ],
   "source": [
    "df_copy['Q6F1_W42'].values"
   ]
  },
  {
   "cell_type": "code",
   "execution_count": 7,
   "metadata": {},
   "outputs": [
    {
     "data": {
      "text/plain": [
       "White non-Hispanic    0.647625\n",
       "Hispanic              0.160842\n",
       "Black non-Hispanic    0.113351\n",
       "Other                 0.064740\n",
       "Refused               0.013441\n",
       "Name: F_RACETHN, dtype: float64"
      ]
     },
     "execution_count": 7,
     "metadata": {},
     "output_type": "execute_result"
    }
   ],
   "source": [
    "df['F_RACETHN'].map(meta.variable_value_labels['F_RACETHN']).value_counts(normalize=True)\n",
    "\n"
   ]
  },
  {
   "cell_type": "code",
   "execution_count": 8,
   "metadata": {
    "scrolled": true
   },
   "outputs": [
    {
     "name": "stdout",
     "output_type": "stream",
     "text": [
      "F_METRO: Metropolitan area indicator coded from FIPS\n",
      "F_CREGION: Census region based on self-reported zipcode\n",
      "F_AGECAT: Age category\n",
      "F_SEX: Sex\n",
      "F_EDUCCAT: Education level category\n",
      "F_EDUCCAT2: Education level category 2\n",
      "F_HISP: HISP.Are you of Hispanic, Latino, or Spanish origin, such as Mexican, Puerto Rican or Cuban? - Includes RACE backcodes\n",
      "F_RACECMB: Combining race\n",
      "F_RACETHN: Race-Ethnicity\n",
      "F_NATIVITY: NATIVITY. Where were you born?\n",
      "F_CITIZEN: Citizenship\n",
      "F_MARITAL: Marital status\n",
      "F_RELIG: Religion\n",
      "F_BORN: BORN. Would you describe yourself as a born-again or evangelical Christian, or not?\n",
      "F_ATTEND: Religious service attendance\n",
      "F_PARTY_FINAL: Party\n",
      "F_PARTYLN_FINAL: Party Lean\n",
      "F_PARTYSUM_FINAL: Party summary\n",
      "F_INCOME: Family income\n",
      "F_INCOME_RECODE: Family income recoded\n",
      "F_REG: Registered voter\n",
      "F_IDEO: Ideology\n",
      "F_ACSWEB: Household internet status\n",
      "F_VOLSUM: Volunteerism status\n"
     ]
    }
   ],
   "source": [
    "demographics = df.columns[-25:-1]\n",
    "labels = meta.column_labels[-25:-1]\n",
    "\n",
    "col_dict = zip(demographics, labels)\n",
    "\n",
    "for k, v in col_dict:\n",
    "    print(k + ': ' + v)\n"
   ]
  },
  {
   "cell_type": "code",
   "execution_count": 9,
   "metadata": {},
   "outputs": [
    {
     "data": {
      "text/plain": [
       "dict_values(['Mostly positive', 'Mostly negative', 'Equal positive and negative effects', 'Refused'])"
      ]
     },
     "execution_count": 9,
     "metadata": {},
     "output_type": "execute_result"
    }
   ],
   "source": [
    "meta.variable_value_labels['SC1_W42'].values()"
   ]
  },
  {
   "cell_type": "code",
   "execution_count": 10,
   "metadata": {},
   "outputs": [
    {
     "name": "stdout",
     "output_type": "stream",
     "text": [
      "QKEY: QKEY \n",
      "\n",
      "W42 Device Type \n",
      "\n",
      "Language of survey materials \n",
      "\n",
      "Wave 42 Form value \n",
      "\n",
      "PAST. Compared with twenty years ago, do you think developments in science have made people's lives… \n",
      "\n",
      "FUTURE. Looking ahead to the next twenty years, do you think developments in science will make people's lives… \n",
      "\n",
      "DOV_FUTURE. Assignment for FUTURE_BOE and FUTURE_WOE questions \n",
      "\n",
      "Open-end codes for FUTURE_BOE (first mention) \n",
      "\n",
      "Open-end codes for FUTURE_BOE (second mention) \n",
      "\n",
      "Open-end codes for FUTURE_BOE (third mention) \n",
      "\n",
      "Open-end codes for FUTURE_WOE (first mention) \n",
      "\n",
      "Open-end codes for FUTURE_WOE (second mention) \n",
      "\n",
      "Open-end codes for FUTURE_WOE (third mention) \n",
      "\n",
      "SC1. Overall, would you say science has had a mostly positive effect on our society or a mostly negative effect on our society? \n",
      "\n",
      "Open-end codes for SC1POS (first mention) \n",
      "\n",
      "Open-end codes for SC1POS (second mention) \n",
      "\n",
      "Open-end codes for SC1POS (third mention) \n",
      "\n",
      "Open-end codes for SC1NEG (first mention) \n",
      "\n",
      "Open-end codes for SC1NEG (second mention) \n",
      "\n",
      "Open-end codes for SC1NEG (third mention) \n",
      "\n",
      "CONFa. How much confidence, if any, do you have in each of the following to act in the best interests of the public? Elected officials \n",
      "\n",
      "CONFb. How much confidence, if any, do you have in each of the following to act in the best interests of the public? The news media \n",
      "\n",
      "CONFc. How much confidence, if any, do you have in each of the following to act in the best interests of the public? The military \n",
      "\n",
      "CONFd_F1. How much confidence, if any, do you have in each of the following to act in the best interests of the public? Medical scientists \n",
      "\n",
      "CONFd_F2. How much confidence, if any, do you have in each of the following to act in the best interests of the public? Scientists \n",
      "\n",
      "CONFe. How much confidence, if any, do you have in each of the following to act in the best interests of the public? Religious leaders \n",
      "\n",
      "CONFf. How much confidence, if any, do you have in each of the following to act in the best interests of the public? Public school principals for grades K-12 \n",
      "\n",
      "CONFg. How much confidence, if any, do you have in each of the following to act in the best interests of the public? Business leaders \n",
      "\n",
      "POLICY1. Which of these statements comes closer to your own view, even if neither is exactly right? \n",
      "\n",
      "POLICY2. Which of these statements comes closer to your own view, even if neither is exactly right? \n",
      "\n",
      "POLICY3. In general, would you say scientific experts are… \n",
      "\n",
      "RQ1_F1A. In general, would you say your view of medical research scientists is… \n",
      "\n",
      "RQ2_F1A. How much, if anything, do you know about what medical research scientists do? \n",
      "\n",
      "RQ3_F1Aa. Is what you know about medical research scientists because you…Know someone who does this \n",
      "\n",
      "RQ3_F1Ab. Is what you know about medical research scientists because you…Learned about this in school \n",
      "\n",
      "RQ3_F1Ac. Is what you know about medical research scientists because you…Learned about this in your job \n",
      "\n",
      "RQ3_F1Ad. Is what you know about medical research scientists because you…Have heard or read about this in the news \n",
      "\n",
      "RQ4_F1Aa. Thinking about medical research scientists, how often would you say they…Do a good job conducting research \n",
      "\n",
      "RQ4_F1Ab. Thinking about medical research scientists, how often would you say they…Provide fair and accurate information when making statements about their research \n",
      "\n",
      "RQ4_F1Ac. Thinking about medical research scientists, how often would you say they…Admit mistakes and take responsibility for them \n",
      "\n",
      "RQ4_F1Ad. Thinking about medical research scientists, how often would you say they…Are transparent about potential conflicts of interest with industry groups in their research \n",
      "\n",
      "RQ4_F1Ae. Thinking about medical research scientists, how often would you say they…Care about the best interests of the public \n",
      "\n",
      "RQ5_F1A. Overall, do you think research misconduct by medical research scientists is… \n",
      "\n",
      "RQ6_F1A. When you hear or read news stories about research misconduct by medical research scientists, do you think of these cases as… \n",
      "\n",
      "RQ7_F1A. When you hear about problems with research misconduct among medical research scientists, which comes closer to your view, even if neither is exactly right? \n",
      "\n",
      "RQ8_F1A. How often, if at all, do you think medical research scientists face serious consequences if they engage in research misconduct? \n",
      "\n",
      "RQ1_F1B. In general, would you say your view of environmental research scientists is… \n",
      "\n",
      "RQ2_F1B. How much, if anything, do you know about what environmental research scientists do? \n",
      "\n",
      "RQ3_F1Ba. Is what you know about environmental research scientists because you…Know someone who does this \n",
      "\n",
      "RQ3_F1Bb. Is what you know about environmental research scientists because you…Learned about this in school \n",
      "\n",
      "RQ3_F1Bc. Is what you know about environmental research scientists because you…Learned about this in your job \n",
      "\n",
      "RQ3_F1Bd. Is what you know about environmental research scientists because you…Have heard or read about this in the news \n",
      "\n",
      "RQ4_F1Ba. Thinking about environmental research scientists, how often would you say they…Do a good job conducting research \n",
      "\n",
      "RQ4_F1Bb. Thinking about environmental research scientists, how often would you say they…Provide fair and accurate information when making statements about their research \n",
      "\n",
      "RQ4_F1Bc. Thinking about environmental research scientists, how often would you say they…Admit mistakes and take responsibility for them \n",
      "\n",
      "RQ4_F1Bd. Thinking about environmental research scientists, how often would you say they…Are transparent about potential conflicts of interest with industry groups in their research \n",
      "\n",
      "RQ4_F1Be. Thinking about environmental research scientists, how often would you say they…Care about the best interests of the public \n",
      "\n",
      "RQ5_F1B. Overall, do you think research misconduct by environmental research scientists is… \n",
      "\n",
      "RQ6_F1B. When you hear or read news stories about research misconduct by environmental research scientists, do you think of these cases as… \n",
      "\n",
      "RQ7_F1B. When you hear about problems with research misconduct among environmental research scientists, which comes closer to your view, even if neither is exactly right? \n",
      "\n",
      "RQ8_F1B. How often, if at all, do you think environmental research scientists face serious consequences if they engage in research misconduct? \n",
      "\n",
      "RQ1_F1C. In general, would you say your view of nutrition research scientists is… \n",
      "\n",
      "RQ2_F1C. How much, if anything, do you know about what nutrition research scientists do? \n",
      "\n",
      "RQ3_F1Ca. Is what you know about nutrition research scientists because you…Know someone who does this \n",
      "\n",
      "RQ3_F1Cb. Is what you know about nutrition research scientists because you…Learned about this in school \n",
      "\n",
      "RQ3_F1Cc. Is what you know about nutrition research scientists because you…Learned about this in your job \n",
      "\n",
      "RQ3_F1Cd. Is what you know about nutrition research scientists because you…Have heard or read about this in the news \n",
      "\n",
      "RQ4_F1Ca. Thinking about nutrition research scientists, how often would you say they…Do a good job conducting research \n",
      "\n",
      "RQ4_F1Cb. Thinking about nutrition research scientists, how often would you say they…Provide fair and accurate information when making statements about their research \n",
      "\n",
      "RQ4_F1Cc. Thinking about nutrition research scientists, how often would you say they…Admit mistakes and take responsibility for them \n",
      "\n",
      "RQ4_F1Cd. Thinking about nutrition research scientists, how often would you say they…Are transparent about potential conflicts of interest with industry groups in their research \n",
      "\n",
      "RQ4_F1Ce. Thinking about nutrition research scientists, how often would you say they…Care about the best interests of the public \n",
      "\n",
      "RQ5_F1C. Overall, do you think research misconduct by nutrition research scientists is… \n",
      "\n",
      "RQ6_F1C. When you hear or read news stories about research misconduct by nutrition research scientists, do you think of these cases as… \n",
      "\n",
      "RQ7_F1C. When you hear about problems with research misconduct among nutrition research scientists, which comes closer to your view, even if neither is exactly right? \n",
      "\n",
      "RQ8_F1C. How often, if at all, do you think nutrition research scientists face serious consequences if they engage in research misconduct? \n",
      "\n",
      "PQ1_F2A. In general, would you say your view of medical doctors is… \n",
      "\n",
      "PQ2_F2A. How much, if anything, do you know about what medical doctors do? \n",
      "\n",
      "PQ3_F2Aa. Is what you know about medical doctors because you…Know someone who does this \n",
      "\n",
      "PQ3_F2Ab. Is what you know about medical doctors because you…Learned about this in school \n",
      "\n",
      "PQ3_F2Ac. Is what you know about medical doctors because you…Learned about this in your job \n",
      "\n",
      "PQ3_F2Ad. Is what you know about medical doctors because you…Have heard or read about this in the news \n",
      "\n",
      "PQ4_F2Aa. Thinking about medical doctors, how often would you say they…Do a good job providing diagnoses and treatment recommendations \n",
      "\n",
      "PQ4_F2Ab. Thinking about medical doctors, how often would you say they…Provide fair and accurate information when making recommendations \n",
      "\n",
      "PQ4_F2Ac. Thinking about medical doctors, how often would you say they…Admit mistakes and take responsibility for them \n",
      "\n",
      "PQ4_F2Ad. Thinking about medical doctors, how often would you say they…Are transparent about potential conflicts of interest with industry groups in their work \n",
      "\n",
      "PQ4_F2Ae. Thinking about medical doctors, how often would you say they…Care about the best interests of their patients \n",
      "\n",
      "PQ5_F2A. Overall, do you think professional misconduct by medical doctors is… \n",
      "\n",
      "PQ6_F2A. When you hear or read news stories about professional misconduct by medical doctors, do you think of these cases as… \n",
      "\n",
      "PQ7_F2A. When you hear about problems with professional misconduct among medical doctors, which comes closer to your view, even if neither is exactly right? \n",
      "\n",
      "PQ8_F2A. How often, if at all, do you think medical doctors face serious consequences if they engage in professional misconduct? \n",
      "\n",
      "PQ1_F2B. In general, would you say your view of environmental health specialists is… \n",
      "\n",
      "PQ2_F2B. How much, if anything, do you know about what environmental health specialists do? \n",
      "\n",
      "PQ3_F2Ba. Is what you know about environmental health specialists because you…Know someone who does this \n",
      "\n",
      "PQ3_F2Bb. Is what you know about environmental health specialists because you…Learned about this in school \n",
      "\n",
      "PQ3_F2Bc. Is what you know about environmental health specialists because you…Learned about this in your job \n",
      "\n",
      "PQ3_F2Bd. Is what you know about environmental health specialists because you…Have heard or read about this in the news \n",
      "\n",
      "PQ4_F2Ba. Thinking about environmental health specialists, how often would you say they…Do a good job providing recommendations about how to address risks to human health from the environment \n",
      "\n",
      "PQ4_F2Bb. Thinking about environmental health specialists, how often would you say they…Provide fair and accurate information when making recommendations \n",
      "\n",
      "PQ4_F2Bc. Thinking about environmental health specialists, how often would you say they…Admit mistakes and take responsibility for them \n",
      "\n",
      "PQ4_F2Bd. Thinking about environmental health specialists, how often would you say they…Are transparent about potential conflicts of interest with industry groups in their work \n",
      "\n",
      "PQ4_F2Be. Thinking about environmental health specialists, how often would you say they…Care about the best interests of people in the community \n",
      "\n",
      "PQ5_F2B. Overall, do you think professional misconduct by environmental health specialists is… \n",
      "\n",
      "PQ6_F2B. When you hear or read news stories about professional misconduct by environmental health specialists, do you think of these cases as… \n",
      "\n",
      "PQ7_F2B. When you hear about problems with professional misconduct among environmental health specialists, which comes closer to your view, even if neither is exactly right? \n",
      "\n",
      "PQ8_F2B. How often, if at all, do you think environmental health specialists face serious consequences if they engage in professional misconduct? \n",
      "\n",
      "PQ1_F2C. In general, would you say your view of dietitians is… \n",
      "\n",
      "PQ2_F2C. How much, if anything, do you know about what dietitians do? \n",
      "\n",
      "PQ3_F2Ca. Is what you know about dietitians because you…Know someone who does this \n",
      "\n",
      "PQ3_F2Cb. Is what you know about dietitians because you…Learned about this in school \n",
      "\n",
      "PQ3_F2Cc. Is what you know about dietitians because you…Learned about this in your job \n",
      "\n",
      "PQ3_F2Cd. Is what you know about dietitians because you…Have heard or read about this in the news \n",
      "\n",
      "PQ4_F2Ca. Thinking about dietitians, how often would you say they…Do a good job of providing recommendations about healthy eating \n",
      "\n",
      "PQ4_F2Cb. Thinking about dietitians, how often would you say they…Provide fair and accurate information when making recommendations \n",
      "\n",
      "PQ4_F2Cc. Thinking about dietitians, how often would you say they…Admit mistakes and take responsibility for them \n",
      "\n",
      "PQ4_F2Cd. Thinking about dietitians, how often would you say they…Are transparent about potential conflicts of interest with industry groups in their work \n",
      "\n",
      "PQ4_F2Ce. Thinking about dietitians, how often would you say they…Care about the best interests of their patients \n",
      "\n",
      "PQ5_F2C. Overall, do you think professional misconduct by dietitians is… \n",
      "\n",
      "PQ6_F2C. When you hear or read news stories about professional misconduct by dietitians, do you think of these cases as… \n",
      "\n",
      "PQ7_F2C. When you hear about problems with professional misconduct among dietitians, which comes closer to your view, even if neither is exactly right? \n",
      "\n",
      "PQ8_F2C. How often, if at all, do you think dietitians face serious consequences if they engage in professional misconduct? \n",
      "\n",
      "SCM4a. How important do you think each of the following types of scientific research is for society? Scientific research that has immediate practical applications \n",
      "\n",
      "SCM4b. How important do you think each of the following types of scientific research is for society? Scientific research that advances knowledge, even if there are no immediate benefits \n",
      "\n",
      "Q6F1. When you hear that scientific research findings have been reviewed by an independent committee, does this make you… \n",
      "\n",
      "Q7F1. When you hear that data used in scientific research is being made openly available to the public, does this make you… \n",
      "\n",
      "Q8F1. When you hear about scientific research that has been funded by the federal government, does this make you… \n",
      "\n",
      "Q9F1. When you hear about scientific research that has been funded by an industry group, does this make you… \n",
      "\n",
      "Q6F2. When you hear that a science practitioner’s recommendation is based on a review from an independent committee, does this make you… \n",
      "\n",
      "Q7F2. When you hear that a science practitioner is open to getting a second opinion on their recommendation, does this make you… \n",
      "\n",
      "Q8F2. When you hear that a science practitioner has received financial incentives from the federal government related to their work, does this make you… \n",
      "\n",
      "Q9F2. When you hear that a science practitioner has received financial incentives from an industry group related to their work, does this make you… \n",
      "\n",
      "SCM5a. In general, would you say each of the following statements describes most RESEARCH  SCIENTISTS well? Intelligent \n",
      "\n",
      "SCM5b. In general, would you say each of the following statements describes most RESEARCH SCIENTISTS well? Good communicators \n",
      "\n",
      "SCM5c. In general, would you say each of the following statements describes most RESEARCH SCIENTISTS well? Focused on solving real-world problems \n",
      "\n",
      "SCM5d. In general, would you say each of the following statements describes most RESEARCH SCIENTISTS well? Close-minded \n",
      "\n",
      "SCM5e. In general, would you say each of the following statements describes most RESEARCH SCIENTISTS well? Don't pay attention to the moral values of society \n",
      "\n",
      "SCM5f. In general, would you say each of the following statements describes most RESEARCH SCIENTISTS well? Honest \n",
      "\n",
      "SCM5g. In general, would you say each of the following statements describes most RESEARCH SCIENTISTS well? Skilled at working in teams \n",
      "\n",
      "SCM5h. In general, would you say each of the following statements describes most RESEARCH SCIENTISTS well? Cold \n",
      "\n",
      "SCM5i. In general, would you say each of the following statements describes most RESEARCH SCIENTISTS well? Socially awkward \n",
      "\n",
      "SCM5j. In general, would you say each of the following statements describes most RESEARCH SCIENTISTS well? Feel superior to others \n",
      "\n",
      "SCM2. Which of the following best describes what you think about the scientific method? \n",
      "\n",
      "SCM3. Which of these statements comes closer to your own view, even if neither is exactly right? \n",
      "\n",
      "POP1. Which of these statements comes closer to your view, even if neither is exactly right? \n",
      "\n",
      "POP2. In general, do you think most of the important policy decisions in this country are made with … \n",
      "\n",
      "POP3. Which of these do you think is the better way to solve the country's most pressing problems, even if neither is exactly right? \n",
      "\n",
      "KNOW1. Here’s a different kind of question. (If you don’t know the answer, select “Not sure.”) As far as you know…Oil, natural gas and coal are examples of… \n",
      "\n",
      "Answered KNOW1 correctly \n",
      "\n",
      "KNOW2. Which of the following changes to the design of this study would most improve the ability to test if the new medication effectively treats ear infections? \n",
      "\n",
      "Answered KNOW2 correctly \n",
      "\n",
      "KNOW3. Which of the following is an example of genetic engineering? \n",
      "\n",
      "Answered KNOW3 correctly \n",
      "\n",
      "KNOW4. What is the main cause of seasons on the Earth? \n",
      "\n",
      "Answered KNOW4 correctly \n",
      "\n",
      "KNOW5. These graphs show the monthly precipitation and average temperature for three cities in the United States over the course of one year. Based on the graphs, which city has the greatest annual range of temperatures? \n",
      "\n",
      "Answered KNOW5 correctly \n",
      "\n",
      "KNOW6. The time a computer takes to start has increased dramatically. One possible explanation for this is that the computer is running out of memory. This explanation is a scientific… \n",
      "\n",
      "Answered KNOW6 correctly \n",
      "\n",
      "KNOW7. Many diseases have an incubation period. Which of the following best describes what an incubation period is? \n",
      "\n",
      "Answered KNOW7 correctly \n",
      "\n",
      "KNOW9. When large areas of forest are removed so land can be converted for other uses, such as farming, which of the following occurs? \n",
      "\n",
      "Answered KNOW9 correctly \n",
      "\n",
      "KNOW10. An antacid relieves an overly acidic stomach because the main components of antacids are… \n",
      "\n",
      "Answered KNOW10 correctly \n",
      "\n",
      "KNOW11. Which of these is a major concern about the overuse of antibiotics? \n",
      "\n",
      "Answered KNOW11 correctly \n",
      "\n",
      "KNOW12. A car travels at a constant speed of 40 miles per hour. How far does the car travel in 45 minutes? \n",
      "\n",
      "Answered KNOW12 correctly \n",
      "\n",
      "Total number of correct science knowledge answers 0 to 11 \n",
      "\n",
      "KNOW14. Based on what you have heard or read, which of the following statements best describes the scientific method? \n",
      "\n",
      "Metropolitan area indicator coded from FIPS \n",
      "\n",
      "Census region based on self-reported zipcode \n",
      "\n",
      "Age category \n",
      "\n",
      "Sex \n",
      "\n",
      "Education level category \n",
      "\n",
      "Education level category 2 \n",
      "\n",
      "HISP.Are you of Hispanic, Latino, or Spanish origin, such as Mexican, Puerto Rican or Cuban? - Includes RACE backcodes \n",
      "\n",
      "Combining race \n",
      "\n",
      "Race-Ethnicity \n",
      "\n",
      "NATIVITY. Where were you born? \n",
      "\n",
      "Citizenship \n",
      "\n",
      "Marital status \n",
      "\n",
      "Religion \n",
      "\n",
      "BORN. Would you describe yourself as a born-again or evangelical Christian, or not? \n",
      "\n",
      "Religious service attendance \n",
      "\n",
      "Party \n",
      "\n",
      "Party Lean \n",
      "\n",
      "Party summary \n",
      "\n",
      "Family income \n",
      "\n",
      "Family income recoded \n",
      "\n",
      "Registered voter \n",
      "\n",
      "Ideology \n",
      "\n",
      "Household internet status \n",
      "\n",
      "Volunteerism status \n",
      "\n",
      "Wave 42 weight \n",
      "\n"
     ]
    },
    {
     "data": {
      "text/plain": [
       "[None,\n",
       " None,\n",
       " None,\n",
       " None,\n",
       " None,\n",
       " None,\n",
       " None,\n",
       " None,\n",
       " None,\n",
       " None,\n",
       " None,\n",
       " None,\n",
       " None,\n",
       " None,\n",
       " None,\n",
       " None,\n",
       " None,\n",
       " None,\n",
       " None,\n",
       " None,\n",
       " None,\n",
       " None,\n",
       " None,\n",
       " None,\n",
       " None,\n",
       " None,\n",
       " None,\n",
       " None,\n",
       " None,\n",
       " None,\n",
       " None,\n",
       " None,\n",
       " None,\n",
       " None,\n",
       " None,\n",
       " None,\n",
       " None,\n",
       " None,\n",
       " None,\n",
       " None,\n",
       " None,\n",
       " None,\n",
       " None,\n",
       " None,\n",
       " None,\n",
       " None,\n",
       " None,\n",
       " None,\n",
       " None,\n",
       " None,\n",
       " None,\n",
       " None,\n",
       " None,\n",
       " None,\n",
       " None,\n",
       " None,\n",
       " None,\n",
       " None,\n",
       " None,\n",
       " None,\n",
       " None,\n",
       " None,\n",
       " None,\n",
       " None,\n",
       " None,\n",
       " None,\n",
       " None,\n",
       " None,\n",
       " None,\n",
       " None,\n",
       " None,\n",
       " None,\n",
       " None,\n",
       " None,\n",
       " None,\n",
       " None,\n",
       " None,\n",
       " None,\n",
       " None,\n",
       " None,\n",
       " None,\n",
       " None,\n",
       " None,\n",
       " None,\n",
       " None,\n",
       " None,\n",
       " None,\n",
       " None,\n",
       " None,\n",
       " None,\n",
       " None,\n",
       " None,\n",
       " None,\n",
       " None,\n",
       " None,\n",
       " None,\n",
       " None,\n",
       " None,\n",
       " None,\n",
       " None,\n",
       " None,\n",
       " None,\n",
       " None,\n",
       " None,\n",
       " None,\n",
       " None,\n",
       " None,\n",
       " None,\n",
       " None,\n",
       " None,\n",
       " None,\n",
       " None,\n",
       " None,\n",
       " None,\n",
       " None,\n",
       " None,\n",
       " None,\n",
       " None,\n",
       " None,\n",
       " None,\n",
       " None,\n",
       " None,\n",
       " None,\n",
       " None,\n",
       " None,\n",
       " None,\n",
       " None,\n",
       " None,\n",
       " None,\n",
       " None,\n",
       " None,\n",
       " None,\n",
       " None,\n",
       " None,\n",
       " None,\n",
       " None,\n",
       " None,\n",
       " None,\n",
       " None,\n",
       " None,\n",
       " None,\n",
       " None,\n",
       " None,\n",
       " None,\n",
       " None,\n",
       " None,\n",
       " None,\n",
       " None,\n",
       " None,\n",
       " None,\n",
       " None,\n",
       " None,\n",
       " None,\n",
       " None,\n",
       " None,\n",
       " None,\n",
       " None,\n",
       " None,\n",
       " None,\n",
       " None,\n",
       " None,\n",
       " None,\n",
       " None,\n",
       " None,\n",
       " None,\n",
       " None,\n",
       " None,\n",
       " None,\n",
       " None,\n",
       " None,\n",
       " None,\n",
       " None,\n",
       " None,\n",
       " None,\n",
       " None,\n",
       " None,\n",
       " None,\n",
       " None,\n",
       " None,\n",
       " None,\n",
       " None,\n",
       " None,\n",
       " None,\n",
       " None,\n",
       " None,\n",
       " None,\n",
       " None,\n",
       " None,\n",
       " None,\n",
       " None,\n",
       " None,\n",
       " None,\n",
       " None,\n",
       " None,\n",
       " None]"
      ]
     },
     "execution_count": 10,
     "metadata": {},
     "output_type": "execute_result"
    }
   ],
   "source": [
    "f = lambda x: [print(f'{y} \\n') for y in x]\n",
    "\n",
    "f(meta.column_labels)"
   ]
  },
  {
   "cell_type": "code",
   "execution_count": 11,
   "metadata": {
    "scrolled": true
   },
   "outputs": [
    {
     "data": {
      "text/html": [
       "<div>\n",
       "<style scoped>\n",
       "    .dataframe tbody tr th:only-of-type {\n",
       "        vertical-align: middle;\n",
       "    }\n",
       "\n",
       "    .dataframe tbody tr th {\n",
       "        vertical-align: top;\n",
       "    }\n",
       "\n",
       "    .dataframe thead th {\n",
       "        text-align: right;\n",
       "    }\n",
       "</style>\n",
       "<table border=\"1\" class=\"dataframe\">\n",
       "  <thead>\n",
       "    <tr style=\"text-align: right;\">\n",
       "      <th></th>\n",
       "      <th>WEIGHT_W42</th>\n",
       "    </tr>\n",
       "    <tr>\n",
       "      <th>Q6F1_W42</th>\n",
       "      <th></th>\n",
       "    </tr>\n",
       "  </thead>\n",
       "  <tbody>\n",
       "    <tr>\n",
       "      <th>1.0</th>\n",
       "      <td>50.731415</td>\n",
       "    </tr>\n",
       "    <tr>\n",
       "      <th>2.0</th>\n",
       "      <td>10.137040</td>\n",
       "    </tr>\n",
       "    <tr>\n",
       "      <th>3.0</th>\n",
       "      <td>36.231776</td>\n",
       "    </tr>\n",
       "    <tr>\n",
       "      <th>99.0</th>\n",
       "      <td>0.715290</td>\n",
       "    </tr>\n",
       "  </tbody>\n",
       "</table>\n",
       "</div>"
      ],
      "text/plain": [
       "          WEIGHT_W42\n",
       "Q6F1_W42            \n",
       "1.0        50.731415\n",
       "2.0        10.137040\n",
       "3.0        36.231776\n",
       "99.0        0.715290"
      ]
     },
     "execution_count": 11,
     "metadata": {},
     "output_type": "execute_result"
    }
   ],
   "source": [
    "# Accounting for weight in determing response to Q6F1 from FORM 2\n",
    "\n",
    "df[['Q6F1_W42', 'WEIGHT_W42']].groupby('Q6F1_W42') \\\n",
    "                              .sum() / df.loc[df['FORM_W42'] == 2.0, ['WEIGHT_W42']].sum() * 100"
   ]
  },
  {
   "cell_type": "code",
   "execution_count": 12,
   "metadata": {},
   "outputs": [
    {
     "data": {
      "text/html": [
       "<div>\n",
       "<style scoped>\n",
       "    .dataframe tbody tr th:only-of-type {\n",
       "        vertical-align: middle;\n",
       "    }\n",
       "\n",
       "    .dataframe tbody tr th {\n",
       "        vertical-align: top;\n",
       "    }\n",
       "\n",
       "    .dataframe thead th {\n",
       "        text-align: right;\n",
       "    }\n",
       "</style>\n",
       "<table border=\"1\" class=\"dataframe\">\n",
       "  <thead>\n",
       "    <tr style=\"text-align: right;\">\n",
       "      <th>SC1_W42</th>\n",
       "      <th>Mostly positive</th>\n",
       "      <th>Mostly negative</th>\n",
       "      <th>Equal positive and negative effects</th>\n",
       "      <th>Refused</th>\n",
       "    </tr>\n",
       "    <tr>\n",
       "      <th>F_AGECAT</th>\n",
       "      <th></th>\n",
       "      <th></th>\n",
       "      <th></th>\n",
       "      <th></th>\n",
       "    </tr>\n",
       "  </thead>\n",
       "  <tbody>\n",
       "    <tr>\n",
       "      <th>18-29</th>\n",
       "      <td>69.898944</td>\n",
       "      <td>3.619753</td>\n",
       "      <td>26.481303</td>\n",
       "      <td>0.000000</td>\n",
       "    </tr>\n",
       "    <tr>\n",
       "      <th>30-49</th>\n",
       "      <td>74.765393</td>\n",
       "      <td>3.292587</td>\n",
       "      <td>21.942019</td>\n",
       "      <td>0.000000</td>\n",
       "    </tr>\n",
       "    <tr>\n",
       "      <th>50-64</th>\n",
       "      <td>68.117834</td>\n",
       "      <td>4.831061</td>\n",
       "      <td>26.746482</td>\n",
       "      <td>0.304623</td>\n",
       "    </tr>\n",
       "    <tr>\n",
       "      <th>65+</th>\n",
       "      <td>79.321439</td>\n",
       "      <td>1.326520</td>\n",
       "      <td>18.603360</td>\n",
       "      <td>0.748681</td>\n",
       "    </tr>\n",
       "    <tr>\n",
       "      <th>DK/REF</th>\n",
       "      <td>100.000000</td>\n",
       "      <td>0.000000</td>\n",
       "      <td>0.000000</td>\n",
       "      <td>0.000000</td>\n",
       "    </tr>\n",
       "  </tbody>\n",
       "</table>\n",
       "</div>"
      ],
      "text/plain": [
       "SC1_W42   Mostly positive  Mostly negative  \\\n",
       "F_AGECAT                                     \n",
       "18-29           69.898944         3.619753   \n",
       "30-49           74.765393         3.292587   \n",
       "50-64           68.117834         4.831061   \n",
       "65+             79.321439         1.326520   \n",
       "DK/REF         100.000000         0.000000   \n",
       "\n",
       "SC1_W42   Equal positive and negative effects   Refused  \n",
       "F_AGECAT                                                 \n",
       "18-29                               26.481303  0.000000  \n",
       "30-49                               21.942019  0.000000  \n",
       "50-64                               26.746482  0.304623  \n",
       "65+                                 18.603360  0.748681  \n",
       "DK/REF                               0.000000  0.000000  "
      ]
     },
     "execution_count": 12,
     "metadata": {},
     "output_type": "execute_result"
    }
   ],
   "source": [
    "test = pd.crosstab(df['F_IDEO'] \\\n",
    "        .map(meta.variable_value_labels['F_IDEO']), \\\n",
    "        df['SC1_W42'].map(meta.variable_value_labels['SC1_W42']), \\\n",
    "        dropna=True, normalize='index') \\\n",
    "        .loc[meta.variable_value_labels['F_IDEO'].values()] \\\n",
    "        .loc[:,meta.variable_value_labels['SC1_W42'].values()]*100\n",
    "\n",
    "\n",
    "test2 = pd.crosstab(df['F_AGECAT']. \\\n",
    "            map(meta.variable_value_labels['F_AGECAT']), \\\n",
    "            df['SC1_W42'].map(meta.variable_value_labels['SC1_W42']), \n",
    "            df.WEIGHT_W42, aggfunc = sum, dropna=True, \\\n",
    "            normalize='index'). \\\n",
    "            loc[meta.variable_value_labels['F_AGECAT'].values()]. \\\n",
    "            loc[:,meta.variable_value_labels['SC1_W42'].values()]*100\n",
    "\n",
    "test2"
   ]
  },
  {
   "cell_type": "code",
   "execution_count": 13,
   "metadata": {},
   "outputs": [],
   "source": [
    "import plotly.express as px"
   ]
  },
  {
   "cell_type": "code",
   "execution_count": 14,
   "metadata": {},
   "outputs": [],
   "source": [
    "def crosstab_frequency(array1, array2):\n",
    "    return pd.crosstab(df[array1]. \\\n",
    "                map(meta.variable_value_labels[array1]),\n",
    "                df[array2].map(meta.variable_value_labels[array2]), \n",
    "                df.WEIGHT_W42, aggfunc = sum, dropna=True,\n",
    "                normalize='index'). \\\n",
    "                loc[meta.variable_value_labels[array1].values()]. \\\n",
    "                loc[:, meta.variable_value_labels[array2].values()]*100\n",
    "\n",
    "def crosstab_frequency2(array1, array2):\n",
    "    return pd.crosstab(df_copy[array1],\n",
    "                       df_copy[array2],\n",
    "                       df_copy.WEIGHT_W42, aggfunc = sum, dropna=True,\n",
    "                       normalize='index'). \\\n",
    "                       loc[meta.variable_value_labels[array1].values()]. \\\n",
    "                       loc[:, meta.variable_value_labels[array2].values()]*100\n",
    "\n",
    "test = crosstab_frequency('F_AGECAT', 'CONFa_W42')\n",
    "test2 = crosstab_frequency2('F_AGECAT', 'POLICY1_W42')"
   ]
  },
  {
   "cell_type": "code",
   "execution_count": 26,
   "metadata": {},
   "outputs": [
    {
     "data": {
      "application/vnd.plotly.v1+json": {
       "config": {
        "plotlyServerURL": "https://plot.ly"
       },
       "data": [
        {
         "alignmentgroup": "True",
         "hovertemplate": "CONFa_W42=A great deal of confidence<br>value=%{x}<br>F_AGECAT=%{y}<extra></extra>",
         "legendgroup": "A great deal of confidence",
         "marker": {
          "color": "#636efa"
         },
         "name": "A great deal of confidence",
         "offsetgroup": "A great deal of confidence",
         "orientation": "h",
         "showlegend": true,
         "textposition": "auto",
         "type": "bar",
         "x": [
          4.491667905331853,
          3.6071716348743585,
          4.340487924200621,
          2.10899678671251,
          0
         ],
         "xaxis": "x",
         "y": [
          "18-29",
          "30-49",
          "50-64",
          "65+",
          "DK/REF"
         ],
         "yaxis": "y"
        },
        {
         "alignmentgroup": "True",
         "hovertemplate": "CONFa_W42=A fair amount of confidence<br>value=%{x}<br>F_AGECAT=%{y}<extra></extra>",
         "legendgroup": "A fair amount of confidence",
         "marker": {
          "color": "#EF553B"
         },
         "name": "A fair amount of confidence",
         "offsetgroup": "A fair amount of confidence",
         "orientation": "h",
         "showlegend": true,
         "textposition": "auto",
         "type": "bar",
         "x": [
          32.84617972669573,
          32.98680973136779,
          29.623673623365875,
          30.897043173440288,
          69.93932491230697
         ],
         "xaxis": "x",
         "y": [
          "18-29",
          "30-49",
          "50-64",
          "65+",
          "DK/REF"
         ],
         "yaxis": "y"
        },
        {
         "alignmentgroup": "True",
         "hovertemplate": "CONFa_W42=Not too much confidence<br>value=%{x}<br>F_AGECAT=%{y}<extra></extra>",
         "legendgroup": "Not too much confidence",
         "marker": {
          "color": "#00cc96"
         },
         "name": "Not too much confidence",
         "offsetgroup": "Not too much confidence",
         "orientation": "h",
         "showlegend": true,
         "textposition": "auto",
         "type": "bar",
         "x": [
          48.013264909582574,
          50.15672708625557,
          49.98410157598324,
          52.39009328733316,
          19.956659134299958
         ],
         "xaxis": "x",
         "y": [
          "18-29",
          "30-49",
          "50-64",
          "65+",
          "DK/REF"
         ],
         "yaxis": "y"
        },
        {
         "alignmentgroup": "True",
         "hovertemplate": "CONFa_W42=No confidence at all<br>value=%{x}<br>F_AGECAT=%{y}<extra></extra>",
         "legendgroup": "No confidence at all",
         "marker": {
          "color": "#ab63fa"
         },
         "name": "No confidence at all",
         "offsetgroup": "No confidence at all",
         "orientation": "h",
         "showlegend": true,
         "textposition": "auto",
         "type": "bar",
         "x": [
          14.40751562912699,
          13.033747912751927,
          15.686900614632835,
          14.377791356759309,
          10.104015953393066
         ],
         "xaxis": "x",
         "y": [
          "18-29",
          "30-49",
          "50-64",
          "65+",
          "DK/REF"
         ],
         "yaxis": "y"
        },
        {
         "alignmentgroup": "True",
         "hovertemplate": "CONFa_W42=Refused<br>value=%{x}<br>F_AGECAT=%{y}<extra></extra>",
         "legendgroup": "Refused",
         "marker": {
          "color": "#FFA15A"
         },
         "name": "Refused",
         "offsetgroup": "Refused",
         "orientation": "h",
         "showlegend": true,
         "textposition": "auto",
         "type": "bar",
         "x": [
          0.24137182926285516,
          0.2155436347503485,
          0.36483626181743356,
          0.22607539575473234,
          0
         ],
         "xaxis": "x",
         "y": [
          "18-29",
          "30-49",
          "50-64",
          "65+",
          "DK/REF"
         ],
         "yaxis": "y"
        }
       ],
       "layout": {
        "barmode": "relative",
        "legend": {
         "orientation": "h",
         "title": {
          "text": "CONFa_W42"
         },
         "tracegroupgap": 0,
         "x": 1,
         "xanchor": "right",
         "y": 1.02,
         "yanchor": "bottom"
        },
        "margin": {
         "t": 60
        },
        "template": {
         "data": {
          "bar": [
           {
            "error_x": {
             "color": "#2a3f5f"
            },
            "error_y": {
             "color": "#2a3f5f"
            },
            "marker": {
             "line": {
              "color": "#E5ECF6",
              "width": 0.5
             }
            },
            "type": "bar"
           }
          ],
          "barpolar": [
           {
            "marker": {
             "line": {
              "color": "#E5ECF6",
              "width": 0.5
             }
            },
            "type": "barpolar"
           }
          ],
          "carpet": [
           {
            "aaxis": {
             "endlinecolor": "#2a3f5f",
             "gridcolor": "white",
             "linecolor": "white",
             "minorgridcolor": "white",
             "startlinecolor": "#2a3f5f"
            },
            "baxis": {
             "endlinecolor": "#2a3f5f",
             "gridcolor": "white",
             "linecolor": "white",
             "minorgridcolor": "white",
             "startlinecolor": "#2a3f5f"
            },
            "type": "carpet"
           }
          ],
          "choropleth": [
           {
            "colorbar": {
             "outlinewidth": 0,
             "ticks": ""
            },
            "type": "choropleth"
           }
          ],
          "contour": [
           {
            "colorbar": {
             "outlinewidth": 0,
             "ticks": ""
            },
            "colorscale": [
             [
              0,
              "#0d0887"
             ],
             [
              0.1111111111111111,
              "#46039f"
             ],
             [
              0.2222222222222222,
              "#7201a8"
             ],
             [
              0.3333333333333333,
              "#9c179e"
             ],
             [
              0.4444444444444444,
              "#bd3786"
             ],
             [
              0.5555555555555556,
              "#d8576b"
             ],
             [
              0.6666666666666666,
              "#ed7953"
             ],
             [
              0.7777777777777778,
              "#fb9f3a"
             ],
             [
              0.8888888888888888,
              "#fdca26"
             ],
             [
              1,
              "#f0f921"
             ]
            ],
            "type": "contour"
           }
          ],
          "contourcarpet": [
           {
            "colorbar": {
             "outlinewidth": 0,
             "ticks": ""
            },
            "type": "contourcarpet"
           }
          ],
          "heatmap": [
           {
            "colorbar": {
             "outlinewidth": 0,
             "ticks": ""
            },
            "colorscale": [
             [
              0,
              "#0d0887"
             ],
             [
              0.1111111111111111,
              "#46039f"
             ],
             [
              0.2222222222222222,
              "#7201a8"
             ],
             [
              0.3333333333333333,
              "#9c179e"
             ],
             [
              0.4444444444444444,
              "#bd3786"
             ],
             [
              0.5555555555555556,
              "#d8576b"
             ],
             [
              0.6666666666666666,
              "#ed7953"
             ],
             [
              0.7777777777777778,
              "#fb9f3a"
             ],
             [
              0.8888888888888888,
              "#fdca26"
             ],
             [
              1,
              "#f0f921"
             ]
            ],
            "type": "heatmap"
           }
          ],
          "heatmapgl": [
           {
            "colorbar": {
             "outlinewidth": 0,
             "ticks": ""
            },
            "colorscale": [
             [
              0,
              "#0d0887"
             ],
             [
              0.1111111111111111,
              "#46039f"
             ],
             [
              0.2222222222222222,
              "#7201a8"
             ],
             [
              0.3333333333333333,
              "#9c179e"
             ],
             [
              0.4444444444444444,
              "#bd3786"
             ],
             [
              0.5555555555555556,
              "#d8576b"
             ],
             [
              0.6666666666666666,
              "#ed7953"
             ],
             [
              0.7777777777777778,
              "#fb9f3a"
             ],
             [
              0.8888888888888888,
              "#fdca26"
             ],
             [
              1,
              "#f0f921"
             ]
            ],
            "type": "heatmapgl"
           }
          ],
          "histogram": [
           {
            "marker": {
             "colorbar": {
              "outlinewidth": 0,
              "ticks": ""
             }
            },
            "type": "histogram"
           }
          ],
          "histogram2d": [
           {
            "colorbar": {
             "outlinewidth": 0,
             "ticks": ""
            },
            "colorscale": [
             [
              0,
              "#0d0887"
             ],
             [
              0.1111111111111111,
              "#46039f"
             ],
             [
              0.2222222222222222,
              "#7201a8"
             ],
             [
              0.3333333333333333,
              "#9c179e"
             ],
             [
              0.4444444444444444,
              "#bd3786"
             ],
             [
              0.5555555555555556,
              "#d8576b"
             ],
             [
              0.6666666666666666,
              "#ed7953"
             ],
             [
              0.7777777777777778,
              "#fb9f3a"
             ],
             [
              0.8888888888888888,
              "#fdca26"
             ],
             [
              1,
              "#f0f921"
             ]
            ],
            "type": "histogram2d"
           }
          ],
          "histogram2dcontour": [
           {
            "colorbar": {
             "outlinewidth": 0,
             "ticks": ""
            },
            "colorscale": [
             [
              0,
              "#0d0887"
             ],
             [
              0.1111111111111111,
              "#46039f"
             ],
             [
              0.2222222222222222,
              "#7201a8"
             ],
             [
              0.3333333333333333,
              "#9c179e"
             ],
             [
              0.4444444444444444,
              "#bd3786"
             ],
             [
              0.5555555555555556,
              "#d8576b"
             ],
             [
              0.6666666666666666,
              "#ed7953"
             ],
             [
              0.7777777777777778,
              "#fb9f3a"
             ],
             [
              0.8888888888888888,
              "#fdca26"
             ],
             [
              1,
              "#f0f921"
             ]
            ],
            "type": "histogram2dcontour"
           }
          ],
          "mesh3d": [
           {
            "colorbar": {
             "outlinewidth": 0,
             "ticks": ""
            },
            "type": "mesh3d"
           }
          ],
          "parcoords": [
           {
            "line": {
             "colorbar": {
              "outlinewidth": 0,
              "ticks": ""
             }
            },
            "type": "parcoords"
           }
          ],
          "pie": [
           {
            "automargin": true,
            "type": "pie"
           }
          ],
          "scatter": [
           {
            "marker": {
             "colorbar": {
              "outlinewidth": 0,
              "ticks": ""
             }
            },
            "type": "scatter"
           }
          ],
          "scatter3d": [
           {
            "line": {
             "colorbar": {
              "outlinewidth": 0,
              "ticks": ""
             }
            },
            "marker": {
             "colorbar": {
              "outlinewidth": 0,
              "ticks": ""
             }
            },
            "type": "scatter3d"
           }
          ],
          "scattercarpet": [
           {
            "marker": {
             "colorbar": {
              "outlinewidth": 0,
              "ticks": ""
             }
            },
            "type": "scattercarpet"
           }
          ],
          "scattergeo": [
           {
            "marker": {
             "colorbar": {
              "outlinewidth": 0,
              "ticks": ""
             }
            },
            "type": "scattergeo"
           }
          ],
          "scattergl": [
           {
            "marker": {
             "colorbar": {
              "outlinewidth": 0,
              "ticks": ""
             }
            },
            "type": "scattergl"
           }
          ],
          "scattermapbox": [
           {
            "marker": {
             "colorbar": {
              "outlinewidth": 0,
              "ticks": ""
             }
            },
            "type": "scattermapbox"
           }
          ],
          "scatterpolar": [
           {
            "marker": {
             "colorbar": {
              "outlinewidth": 0,
              "ticks": ""
             }
            },
            "type": "scatterpolar"
           }
          ],
          "scatterpolargl": [
           {
            "marker": {
             "colorbar": {
              "outlinewidth": 0,
              "ticks": ""
             }
            },
            "type": "scatterpolargl"
           }
          ],
          "scatterternary": [
           {
            "marker": {
             "colorbar": {
              "outlinewidth": 0,
              "ticks": ""
             }
            },
            "type": "scatterternary"
           }
          ],
          "surface": [
           {
            "colorbar": {
             "outlinewidth": 0,
             "ticks": ""
            },
            "colorscale": [
             [
              0,
              "#0d0887"
             ],
             [
              0.1111111111111111,
              "#46039f"
             ],
             [
              0.2222222222222222,
              "#7201a8"
             ],
             [
              0.3333333333333333,
              "#9c179e"
             ],
             [
              0.4444444444444444,
              "#bd3786"
             ],
             [
              0.5555555555555556,
              "#d8576b"
             ],
             [
              0.6666666666666666,
              "#ed7953"
             ],
             [
              0.7777777777777778,
              "#fb9f3a"
             ],
             [
              0.8888888888888888,
              "#fdca26"
             ],
             [
              1,
              "#f0f921"
             ]
            ],
            "type": "surface"
           }
          ],
          "table": [
           {
            "cells": {
             "fill": {
              "color": "#EBF0F8"
             },
             "line": {
              "color": "white"
             }
            },
            "header": {
             "fill": {
              "color": "#C8D4E3"
             },
             "line": {
              "color": "white"
             }
            },
            "type": "table"
           }
          ]
         },
         "layout": {
          "annotationdefaults": {
           "arrowcolor": "#2a3f5f",
           "arrowhead": 0,
           "arrowwidth": 1
          },
          "coloraxis": {
           "colorbar": {
            "outlinewidth": 0,
            "ticks": ""
           }
          },
          "colorscale": {
           "diverging": [
            [
             0,
             "#8e0152"
            ],
            [
             0.1,
             "#c51b7d"
            ],
            [
             0.2,
             "#de77ae"
            ],
            [
             0.3,
             "#f1b6da"
            ],
            [
             0.4,
             "#fde0ef"
            ],
            [
             0.5,
             "#f7f7f7"
            ],
            [
             0.6,
             "#e6f5d0"
            ],
            [
             0.7,
             "#b8e186"
            ],
            [
             0.8,
             "#7fbc41"
            ],
            [
             0.9,
             "#4d9221"
            ],
            [
             1,
             "#276419"
            ]
           ],
           "sequential": [
            [
             0,
             "#0d0887"
            ],
            [
             0.1111111111111111,
             "#46039f"
            ],
            [
             0.2222222222222222,
             "#7201a8"
            ],
            [
             0.3333333333333333,
             "#9c179e"
            ],
            [
             0.4444444444444444,
             "#bd3786"
            ],
            [
             0.5555555555555556,
             "#d8576b"
            ],
            [
             0.6666666666666666,
             "#ed7953"
            ],
            [
             0.7777777777777778,
             "#fb9f3a"
            ],
            [
             0.8888888888888888,
             "#fdca26"
            ],
            [
             1,
             "#f0f921"
            ]
           ],
           "sequentialminus": [
            [
             0,
             "#0d0887"
            ],
            [
             0.1111111111111111,
             "#46039f"
            ],
            [
             0.2222222222222222,
             "#7201a8"
            ],
            [
             0.3333333333333333,
             "#9c179e"
            ],
            [
             0.4444444444444444,
             "#bd3786"
            ],
            [
             0.5555555555555556,
             "#d8576b"
            ],
            [
             0.6666666666666666,
             "#ed7953"
            ],
            [
             0.7777777777777778,
             "#fb9f3a"
            ],
            [
             0.8888888888888888,
             "#fdca26"
            ],
            [
             1,
             "#f0f921"
            ]
           ]
          },
          "colorway": [
           "#636efa",
           "#EF553B",
           "#00cc96",
           "#ab63fa",
           "#FFA15A",
           "#19d3f3",
           "#FF6692",
           "#B6E880",
           "#FF97FF",
           "#FECB52"
          ],
          "font": {
           "color": "#2a3f5f"
          },
          "geo": {
           "bgcolor": "white",
           "lakecolor": "white",
           "landcolor": "#E5ECF6",
           "showlakes": true,
           "showland": true,
           "subunitcolor": "white"
          },
          "hoverlabel": {
           "align": "left"
          },
          "hovermode": "closest",
          "mapbox": {
           "style": "light"
          },
          "paper_bgcolor": "white",
          "plot_bgcolor": "#E5ECF6",
          "polar": {
           "angularaxis": {
            "gridcolor": "white",
            "linecolor": "white",
            "ticks": ""
           },
           "bgcolor": "#E5ECF6",
           "radialaxis": {
            "gridcolor": "white",
            "linecolor": "white",
            "ticks": ""
           }
          },
          "scene": {
           "xaxis": {
            "backgroundcolor": "#E5ECF6",
            "gridcolor": "white",
            "gridwidth": 2,
            "linecolor": "white",
            "showbackground": true,
            "ticks": "",
            "zerolinecolor": "white"
           },
           "yaxis": {
            "backgroundcolor": "#E5ECF6",
            "gridcolor": "white",
            "gridwidth": 2,
            "linecolor": "white",
            "showbackground": true,
            "ticks": "",
            "zerolinecolor": "white"
           },
           "zaxis": {
            "backgroundcolor": "#E5ECF6",
            "gridcolor": "white",
            "gridwidth": 2,
            "linecolor": "white",
            "showbackground": true,
            "ticks": "",
            "zerolinecolor": "white"
           }
          },
          "shapedefaults": {
           "line": {
            "color": "#2a3f5f"
           }
          },
          "ternary": {
           "aaxis": {
            "gridcolor": "white",
            "linecolor": "white",
            "ticks": ""
           },
           "baxis": {
            "gridcolor": "white",
            "linecolor": "white",
            "ticks": ""
           },
           "bgcolor": "#E5ECF6",
           "caxis": {
            "gridcolor": "white",
            "linecolor": "white",
            "ticks": ""
           }
          },
          "title": {
           "x": 0.05
          },
          "xaxis": {
           "automargin": true,
           "gridcolor": "white",
           "linecolor": "white",
           "ticks": "",
           "title": {
            "standoff": 15
           },
           "zerolinecolor": "white",
           "zerolinewidth": 2
          },
          "yaxis": {
           "automargin": true,
           "gridcolor": "white",
           "linecolor": "white",
           "ticks": "",
           "title": {
            "standoff": 15
           },
           "zerolinecolor": "white",
           "zerolinewidth": 2
          }
         }
        },
        "xaxis": {
         "anchor": "y",
         "domain": [
          0,
          1
         ],
         "title": {
          "text": "value"
         }
        },
        "yaxis": {
         "anchor": "x",
         "domain": [
          0,
          1
         ],
         "title": {
          "text": "F_AGECAT"
         }
        }
       }
      },
      "text/html": [
       "<div>\n",
       "        \n",
       "        \n",
       "            <div id=\"53b9ac15-3be3-4817-9aeb-d3bd51332be9\" class=\"plotly-graph-div\" style=\"height:525px; width:100%;\"></div>\n",
       "            <script type=\"text/javascript\">\n",
       "                require([\"plotly\"], function(Plotly) {\n",
       "                    window.PLOTLYENV=window.PLOTLYENV || {};\n",
       "                    \n",
       "                if (document.getElementById(\"53b9ac15-3be3-4817-9aeb-d3bd51332be9\")) {\n",
       "                    Plotly.newPlot(\n",
       "                        '53b9ac15-3be3-4817-9aeb-d3bd51332be9',\n",
       "                        [{\"alignmentgroup\": \"True\", \"hovertemplate\": \"CONFa_W42=A great deal of confidence<br>value=%{x}<br>F_AGECAT=%{y}<extra></extra>\", \"legendgroup\": \"A great deal of confidence\", \"marker\": {\"color\": \"#636efa\"}, \"name\": \"A great deal of confidence\", \"offsetgroup\": \"A great deal of confidence\", \"orientation\": \"h\", \"showlegend\": true, \"textposition\": \"auto\", \"type\": \"bar\", \"x\": [4.491667905331853, 3.6071716348743585, 4.340487924200621, 2.10899678671251, 0.0], \"xaxis\": \"x\", \"y\": [\"18-29\", \"30-49\", \"50-64\", \"65+\", \"DK/REF\"], \"yaxis\": \"y\"}, {\"alignmentgroup\": \"True\", \"hovertemplate\": \"CONFa_W42=A fair amount of confidence<br>value=%{x}<br>F_AGECAT=%{y}<extra></extra>\", \"legendgroup\": \"A fair amount of confidence\", \"marker\": {\"color\": \"#EF553B\"}, \"name\": \"A fair amount of confidence\", \"offsetgroup\": \"A fair amount of confidence\", \"orientation\": \"h\", \"showlegend\": true, \"textposition\": \"auto\", \"type\": \"bar\", \"x\": [32.84617972669573, 32.98680973136779, 29.623673623365875, 30.897043173440288, 69.93932491230697], \"xaxis\": \"x\", \"y\": [\"18-29\", \"30-49\", \"50-64\", \"65+\", \"DK/REF\"], \"yaxis\": \"y\"}, {\"alignmentgroup\": \"True\", \"hovertemplate\": \"CONFa_W42=Not too much confidence<br>value=%{x}<br>F_AGECAT=%{y}<extra></extra>\", \"legendgroup\": \"Not too much confidence\", \"marker\": {\"color\": \"#00cc96\"}, \"name\": \"Not too much confidence\", \"offsetgroup\": \"Not too much confidence\", \"orientation\": \"h\", \"showlegend\": true, \"textposition\": \"auto\", \"type\": \"bar\", \"x\": [48.013264909582574, 50.15672708625557, 49.98410157598324, 52.39009328733316, 19.956659134299958], \"xaxis\": \"x\", \"y\": [\"18-29\", \"30-49\", \"50-64\", \"65+\", \"DK/REF\"], \"yaxis\": \"y\"}, {\"alignmentgroup\": \"True\", \"hovertemplate\": \"CONFa_W42=No confidence at all<br>value=%{x}<br>F_AGECAT=%{y}<extra></extra>\", \"legendgroup\": \"No confidence at all\", \"marker\": {\"color\": \"#ab63fa\"}, \"name\": \"No confidence at all\", \"offsetgroup\": \"No confidence at all\", \"orientation\": \"h\", \"showlegend\": true, \"textposition\": \"auto\", \"type\": \"bar\", \"x\": [14.40751562912699, 13.033747912751927, 15.686900614632835, 14.377791356759309, 10.104015953393066], \"xaxis\": \"x\", \"y\": [\"18-29\", \"30-49\", \"50-64\", \"65+\", \"DK/REF\"], \"yaxis\": \"y\"}, {\"alignmentgroup\": \"True\", \"hovertemplate\": \"CONFa_W42=Refused<br>value=%{x}<br>F_AGECAT=%{y}<extra></extra>\", \"legendgroup\": \"Refused\", \"marker\": {\"color\": \"#FFA15A\"}, \"name\": \"Refused\", \"offsetgroup\": \"Refused\", \"orientation\": \"h\", \"showlegend\": true, \"textposition\": \"auto\", \"type\": \"bar\", \"x\": [0.24137182926285516, 0.2155436347503485, 0.36483626181743356, 0.22607539575473234, 0.0], \"xaxis\": \"x\", \"y\": [\"18-29\", \"30-49\", \"50-64\", \"65+\", \"DK/REF\"], \"yaxis\": \"y\"}],\n",
       "                        {\"barmode\": \"relative\", \"legend\": {\"orientation\": \"h\", \"title\": {\"text\": \"CONFa_W42\"}, \"tracegroupgap\": 0, \"x\": 1, \"xanchor\": \"right\", \"y\": 1.02, \"yanchor\": \"bottom\"}, \"margin\": {\"t\": 60}, \"template\": {\"data\": {\"bar\": [{\"error_x\": {\"color\": \"#2a3f5f\"}, \"error_y\": {\"color\": \"#2a3f5f\"}, \"marker\": {\"line\": {\"color\": \"#E5ECF6\", \"width\": 0.5}}, \"type\": \"bar\"}], \"barpolar\": [{\"marker\": {\"line\": {\"color\": \"#E5ECF6\", \"width\": 0.5}}, \"type\": \"barpolar\"}], \"carpet\": [{\"aaxis\": {\"endlinecolor\": \"#2a3f5f\", \"gridcolor\": \"white\", \"linecolor\": \"white\", \"minorgridcolor\": \"white\", \"startlinecolor\": \"#2a3f5f\"}, \"baxis\": {\"endlinecolor\": \"#2a3f5f\", \"gridcolor\": \"white\", \"linecolor\": \"white\", \"minorgridcolor\": \"white\", \"startlinecolor\": \"#2a3f5f\"}, \"type\": \"carpet\"}], \"choropleth\": [{\"colorbar\": {\"outlinewidth\": 0, \"ticks\": \"\"}, \"type\": \"choropleth\"}], \"contour\": [{\"colorbar\": {\"outlinewidth\": 0, \"ticks\": \"\"}, \"colorscale\": [[0.0, \"#0d0887\"], [0.1111111111111111, \"#46039f\"], [0.2222222222222222, \"#7201a8\"], [0.3333333333333333, \"#9c179e\"], [0.4444444444444444, \"#bd3786\"], [0.5555555555555556, \"#d8576b\"], [0.6666666666666666, \"#ed7953\"], [0.7777777777777778, \"#fb9f3a\"], [0.8888888888888888, \"#fdca26\"], [1.0, \"#f0f921\"]], \"type\": \"contour\"}], \"contourcarpet\": [{\"colorbar\": {\"outlinewidth\": 0, \"ticks\": \"\"}, \"type\": \"contourcarpet\"}], \"heatmap\": [{\"colorbar\": {\"outlinewidth\": 0, \"ticks\": \"\"}, \"colorscale\": [[0.0, \"#0d0887\"], [0.1111111111111111, \"#46039f\"], [0.2222222222222222, \"#7201a8\"], [0.3333333333333333, \"#9c179e\"], [0.4444444444444444, \"#bd3786\"], [0.5555555555555556, \"#d8576b\"], [0.6666666666666666, \"#ed7953\"], [0.7777777777777778, \"#fb9f3a\"], [0.8888888888888888, \"#fdca26\"], [1.0, \"#f0f921\"]], \"type\": \"heatmap\"}], \"heatmapgl\": [{\"colorbar\": {\"outlinewidth\": 0, \"ticks\": \"\"}, \"colorscale\": [[0.0, \"#0d0887\"], [0.1111111111111111, \"#46039f\"], [0.2222222222222222, \"#7201a8\"], [0.3333333333333333, \"#9c179e\"], [0.4444444444444444, \"#bd3786\"], [0.5555555555555556, \"#d8576b\"], [0.6666666666666666, \"#ed7953\"], [0.7777777777777778, \"#fb9f3a\"], [0.8888888888888888, \"#fdca26\"], [1.0, \"#f0f921\"]], \"type\": \"heatmapgl\"}], \"histogram\": [{\"marker\": {\"colorbar\": {\"outlinewidth\": 0, \"ticks\": \"\"}}, \"type\": \"histogram\"}], \"histogram2d\": [{\"colorbar\": {\"outlinewidth\": 0, \"ticks\": \"\"}, \"colorscale\": [[0.0, \"#0d0887\"], [0.1111111111111111, \"#46039f\"], [0.2222222222222222, \"#7201a8\"], [0.3333333333333333, \"#9c179e\"], [0.4444444444444444, \"#bd3786\"], [0.5555555555555556, \"#d8576b\"], [0.6666666666666666, \"#ed7953\"], [0.7777777777777778, \"#fb9f3a\"], [0.8888888888888888, \"#fdca26\"], [1.0, \"#f0f921\"]], \"type\": \"histogram2d\"}], \"histogram2dcontour\": [{\"colorbar\": {\"outlinewidth\": 0, \"ticks\": \"\"}, \"colorscale\": [[0.0, \"#0d0887\"], [0.1111111111111111, \"#46039f\"], [0.2222222222222222, \"#7201a8\"], [0.3333333333333333, \"#9c179e\"], [0.4444444444444444, \"#bd3786\"], [0.5555555555555556, \"#d8576b\"], [0.6666666666666666, \"#ed7953\"], [0.7777777777777778, \"#fb9f3a\"], [0.8888888888888888, \"#fdca26\"], [1.0, \"#f0f921\"]], \"type\": \"histogram2dcontour\"}], \"mesh3d\": [{\"colorbar\": {\"outlinewidth\": 0, \"ticks\": \"\"}, \"type\": \"mesh3d\"}], \"parcoords\": [{\"line\": {\"colorbar\": {\"outlinewidth\": 0, \"ticks\": \"\"}}, \"type\": \"parcoords\"}], \"pie\": [{\"automargin\": true, \"type\": \"pie\"}], \"scatter\": [{\"marker\": {\"colorbar\": {\"outlinewidth\": 0, \"ticks\": \"\"}}, \"type\": \"scatter\"}], \"scatter3d\": [{\"line\": {\"colorbar\": {\"outlinewidth\": 0, \"ticks\": \"\"}}, \"marker\": {\"colorbar\": {\"outlinewidth\": 0, \"ticks\": \"\"}}, \"type\": \"scatter3d\"}], \"scattercarpet\": [{\"marker\": {\"colorbar\": {\"outlinewidth\": 0, \"ticks\": \"\"}}, \"type\": \"scattercarpet\"}], \"scattergeo\": [{\"marker\": {\"colorbar\": {\"outlinewidth\": 0, \"ticks\": \"\"}}, \"type\": \"scattergeo\"}], \"scattergl\": [{\"marker\": {\"colorbar\": {\"outlinewidth\": 0, \"ticks\": \"\"}}, \"type\": \"scattergl\"}], \"scattermapbox\": [{\"marker\": {\"colorbar\": {\"outlinewidth\": 0, \"ticks\": \"\"}}, \"type\": \"scattermapbox\"}], \"scatterpolar\": [{\"marker\": {\"colorbar\": {\"outlinewidth\": 0, \"ticks\": \"\"}}, \"type\": \"scatterpolar\"}], \"scatterpolargl\": [{\"marker\": {\"colorbar\": {\"outlinewidth\": 0, \"ticks\": \"\"}}, \"type\": \"scatterpolargl\"}], \"scatterternary\": [{\"marker\": {\"colorbar\": {\"outlinewidth\": 0, \"ticks\": \"\"}}, \"type\": \"scatterternary\"}], \"surface\": [{\"colorbar\": {\"outlinewidth\": 0, \"ticks\": \"\"}, \"colorscale\": [[0.0, \"#0d0887\"], [0.1111111111111111, \"#46039f\"], [0.2222222222222222, \"#7201a8\"], [0.3333333333333333, \"#9c179e\"], [0.4444444444444444, \"#bd3786\"], [0.5555555555555556, \"#d8576b\"], [0.6666666666666666, \"#ed7953\"], [0.7777777777777778, \"#fb9f3a\"], [0.8888888888888888, \"#fdca26\"], [1.0, \"#f0f921\"]], \"type\": \"surface\"}], \"table\": [{\"cells\": {\"fill\": {\"color\": \"#EBF0F8\"}, \"line\": {\"color\": \"white\"}}, \"header\": {\"fill\": {\"color\": \"#C8D4E3\"}, \"line\": {\"color\": \"white\"}}, \"type\": \"table\"}]}, \"layout\": {\"annotationdefaults\": {\"arrowcolor\": \"#2a3f5f\", \"arrowhead\": 0, \"arrowwidth\": 1}, \"coloraxis\": {\"colorbar\": {\"outlinewidth\": 0, \"ticks\": \"\"}}, \"colorscale\": {\"diverging\": [[0, \"#8e0152\"], [0.1, \"#c51b7d\"], [0.2, \"#de77ae\"], [0.3, \"#f1b6da\"], [0.4, \"#fde0ef\"], [0.5, \"#f7f7f7\"], [0.6, \"#e6f5d0\"], [0.7, \"#b8e186\"], [0.8, \"#7fbc41\"], [0.9, \"#4d9221\"], [1, \"#276419\"]], \"sequential\": [[0.0, \"#0d0887\"], [0.1111111111111111, \"#46039f\"], [0.2222222222222222, \"#7201a8\"], [0.3333333333333333, \"#9c179e\"], [0.4444444444444444, \"#bd3786\"], [0.5555555555555556, \"#d8576b\"], [0.6666666666666666, \"#ed7953\"], [0.7777777777777778, \"#fb9f3a\"], [0.8888888888888888, \"#fdca26\"], [1.0, \"#f0f921\"]], \"sequentialminus\": [[0.0, \"#0d0887\"], [0.1111111111111111, \"#46039f\"], [0.2222222222222222, \"#7201a8\"], [0.3333333333333333, \"#9c179e\"], [0.4444444444444444, \"#bd3786\"], [0.5555555555555556, \"#d8576b\"], [0.6666666666666666, \"#ed7953\"], [0.7777777777777778, \"#fb9f3a\"], [0.8888888888888888, \"#fdca26\"], [1.0, \"#f0f921\"]]}, \"colorway\": [\"#636efa\", \"#EF553B\", \"#00cc96\", \"#ab63fa\", \"#FFA15A\", \"#19d3f3\", \"#FF6692\", \"#B6E880\", \"#FF97FF\", \"#FECB52\"], \"font\": {\"color\": \"#2a3f5f\"}, \"geo\": {\"bgcolor\": \"white\", \"lakecolor\": \"white\", \"landcolor\": \"#E5ECF6\", \"showlakes\": true, \"showland\": true, \"subunitcolor\": \"white\"}, \"hoverlabel\": {\"align\": \"left\"}, \"hovermode\": \"closest\", \"mapbox\": {\"style\": \"light\"}, \"paper_bgcolor\": \"white\", \"plot_bgcolor\": \"#E5ECF6\", \"polar\": {\"angularaxis\": {\"gridcolor\": \"white\", \"linecolor\": \"white\", \"ticks\": \"\"}, \"bgcolor\": \"#E5ECF6\", \"radialaxis\": {\"gridcolor\": \"white\", \"linecolor\": \"white\", \"ticks\": \"\"}}, \"scene\": {\"xaxis\": {\"backgroundcolor\": \"#E5ECF6\", \"gridcolor\": \"white\", \"gridwidth\": 2, \"linecolor\": \"white\", \"showbackground\": true, \"ticks\": \"\", \"zerolinecolor\": \"white\"}, \"yaxis\": {\"backgroundcolor\": \"#E5ECF6\", \"gridcolor\": \"white\", \"gridwidth\": 2, \"linecolor\": \"white\", \"showbackground\": true, \"ticks\": \"\", \"zerolinecolor\": \"white\"}, \"zaxis\": {\"backgroundcolor\": \"#E5ECF6\", \"gridcolor\": \"white\", \"gridwidth\": 2, \"linecolor\": \"white\", \"showbackground\": true, \"ticks\": \"\", \"zerolinecolor\": \"white\"}}, \"shapedefaults\": {\"line\": {\"color\": \"#2a3f5f\"}}, \"ternary\": {\"aaxis\": {\"gridcolor\": \"white\", \"linecolor\": \"white\", \"ticks\": \"\"}, \"baxis\": {\"gridcolor\": \"white\", \"linecolor\": \"white\", \"ticks\": \"\"}, \"bgcolor\": \"#E5ECF6\", \"caxis\": {\"gridcolor\": \"white\", \"linecolor\": \"white\", \"ticks\": \"\"}}, \"title\": {\"x\": 0.05}, \"xaxis\": {\"automargin\": true, \"gridcolor\": \"white\", \"linecolor\": \"white\", \"ticks\": \"\", \"title\": {\"standoff\": 15}, \"zerolinecolor\": \"white\", \"zerolinewidth\": 2}, \"yaxis\": {\"automargin\": true, \"gridcolor\": \"white\", \"linecolor\": \"white\", \"ticks\": \"\", \"title\": {\"standoff\": 15}, \"zerolinecolor\": \"white\", \"zerolinewidth\": 2}}}, \"xaxis\": {\"anchor\": \"y\", \"domain\": [0.0, 1.0], \"title\": {\"text\": \"value\"}}, \"yaxis\": {\"anchor\": \"x\", \"domain\": [0.0, 1.0], \"title\": {\"text\": \"F_AGECAT\"}}},\n",
       "                        {\"responsive\": true}\n",
       "                    ).then(function(){\n",
       "                            \n",
       "var gd = document.getElementById('53b9ac15-3be3-4817-9aeb-d3bd51332be9');\n",
       "var x = new MutationObserver(function (mutations, observer) {{\n",
       "        var display = window.getComputedStyle(gd).display;\n",
       "        if (!display || display === 'none') {{\n",
       "            console.log([gd, 'removed!']);\n",
       "            Plotly.purge(gd);\n",
       "            observer.disconnect();\n",
       "        }}\n",
       "}});\n",
       "\n",
       "// Listen for the removal of the full notebook cells\n",
       "var notebookContainer = gd.closest('#notebook-container');\n",
       "if (notebookContainer) {{\n",
       "    x.observe(notebookContainer, {childList: true});\n",
       "}}\n",
       "\n",
       "// Listen for the clearing of the current output cell\n",
       "var outputEl = gd.closest('.output');\n",
       "if (outputEl) {{\n",
       "    x.observe(outputEl, {childList: true});\n",
       "}}\n",
       "\n",
       "                        })\n",
       "                };\n",
       "                });\n",
       "            </script>\n",
       "        </div>"
      ]
     },
     "metadata": {},
     "output_type": "display_data"
    }
   ],
   "source": [
    "fig = px.bar(test, x=test.columns, y=test.index )\n",
    "fig2 = px.bar(test2, x=test2.columns, y=test2.index)\n",
    "\n",
    "fig.update_layout(legend=dict(\n",
    "    orientation=\"h\",\n",
    "    yanchor=\"bottom\",\n",
    "    y=1.02,\n",
    "    xanchor=\"right\",\n",
    "    x=1\n",
    "))"
   ]
  },
  {
   "cell_type": "code",
   "execution_count": 16,
   "metadata": {},
   "outputs": [
    {
     "data": {
      "application/vnd.plotly.v1+json": {
       "config": {
        "plotlyServerURL": "https://plot.ly"
       },
       "data": [
        {
         "alignmentgroup": "True",
         "hovertemplate": "POLICY1_W42=Scientists should take an active role in public policy debates about scientific issues<br>value=%{x}<br>F_AGECAT=%{y}<extra></extra>",
         "legendgroup": "Scientists should take an active role in public policy debates about scientific issues",
         "marker": {
          "color": "#636efa"
         },
         "name": "Scientists should take an active role in public policy debates about scientific issues",
         "offsetgroup": "Scientists should take an active role in public policy debates about scientific issues",
         "orientation": "h",
         "showlegend": true,
         "textposition": "auto",
         "type": "bar",
         "x": [
          64.98300332800805,
          61.97533269210812,
          56.188705611963876,
          56.242210047362605,
          69.93932491230697
         ],
         "xaxis": "x",
         "y": [
          "18-29",
          "30-49",
          "50-64",
          "65+",
          "DK/REF"
         ],
         "yaxis": "y"
        },
        {
         "alignmentgroup": "True",
         "hovertemplate": "POLICY1_W42=Scientists should focus on establishing sound scientific facts and stay out of public policy debates<br>value=%{x}<br>F_AGECAT=%{y}<extra></extra>",
         "legendgroup": "Scientists should focus on establishing sound scientific facts and stay out of public policy debates",
         "marker": {
          "color": "#EF553B"
         },
         "name": "Scientists should focus on establishing sound scientific facts and stay out of public policy debates",
         "offsetgroup": "Scientists should focus on establishing sound scientific facts and stay out of public policy debates",
         "orientation": "h",
         "showlegend": true,
         "textposition": "auto",
         "type": "bar",
         "x": [
          34.39004722418979,
          37.0412026010977,
          42.540865003743626,
          41.5822285240925,
          30.060675087693028
         ],
         "xaxis": "x",
         "y": [
          "18-29",
          "30-49",
          "50-64",
          "65+",
          "DK/REF"
         ],
         "yaxis": "y"
        },
        {
         "alignmentgroup": "True",
         "hovertemplate": "POLICY1_W42=Refused<br>value=%{x}<br>F_AGECAT=%{y}<extra></extra>",
         "legendgroup": "Refused",
         "marker": {
          "color": "#00cc96"
         },
         "name": "Refused",
         "offsetgroup": "Refused",
         "orientation": "h",
         "showlegend": true,
         "textposition": "auto",
         "type": "bar",
         "x": [
          0.6269494478021634,
          0.9834647067941901,
          1.2704293842924916,
          2.175561428544896,
          0
         ],
         "xaxis": "x",
         "y": [
          "18-29",
          "30-49",
          "50-64",
          "65+",
          "DK/REF"
         ],
         "yaxis": "y"
        }
       ],
       "layout": {
        "barmode": "relative",
        "legend": {
         "orientation": "h",
         "title": {
          "text": "POLICY1_W42"
         },
         "tracegroupgap": 0,
         "x": 1,
         "xanchor": "right",
         "y": 1.02,
         "yanchor": "bottom"
        },
        "margin": {
         "t": 60
        },
        "template": {
         "data": {
          "bar": [
           {
            "error_x": {
             "color": "#2a3f5f"
            },
            "error_y": {
             "color": "#2a3f5f"
            },
            "marker": {
             "line": {
              "color": "#E5ECF6",
              "width": 0.5
             }
            },
            "type": "bar"
           }
          ],
          "barpolar": [
           {
            "marker": {
             "line": {
              "color": "#E5ECF6",
              "width": 0.5
             }
            },
            "type": "barpolar"
           }
          ],
          "carpet": [
           {
            "aaxis": {
             "endlinecolor": "#2a3f5f",
             "gridcolor": "white",
             "linecolor": "white",
             "minorgridcolor": "white",
             "startlinecolor": "#2a3f5f"
            },
            "baxis": {
             "endlinecolor": "#2a3f5f",
             "gridcolor": "white",
             "linecolor": "white",
             "minorgridcolor": "white",
             "startlinecolor": "#2a3f5f"
            },
            "type": "carpet"
           }
          ],
          "choropleth": [
           {
            "colorbar": {
             "outlinewidth": 0,
             "ticks": ""
            },
            "type": "choropleth"
           }
          ],
          "contour": [
           {
            "colorbar": {
             "outlinewidth": 0,
             "ticks": ""
            },
            "colorscale": [
             [
              0,
              "#0d0887"
             ],
             [
              0.1111111111111111,
              "#46039f"
             ],
             [
              0.2222222222222222,
              "#7201a8"
             ],
             [
              0.3333333333333333,
              "#9c179e"
             ],
             [
              0.4444444444444444,
              "#bd3786"
             ],
             [
              0.5555555555555556,
              "#d8576b"
             ],
             [
              0.6666666666666666,
              "#ed7953"
             ],
             [
              0.7777777777777778,
              "#fb9f3a"
             ],
             [
              0.8888888888888888,
              "#fdca26"
             ],
             [
              1,
              "#f0f921"
             ]
            ],
            "type": "contour"
           }
          ],
          "contourcarpet": [
           {
            "colorbar": {
             "outlinewidth": 0,
             "ticks": ""
            },
            "type": "contourcarpet"
           }
          ],
          "heatmap": [
           {
            "colorbar": {
             "outlinewidth": 0,
             "ticks": ""
            },
            "colorscale": [
             [
              0,
              "#0d0887"
             ],
             [
              0.1111111111111111,
              "#46039f"
             ],
             [
              0.2222222222222222,
              "#7201a8"
             ],
             [
              0.3333333333333333,
              "#9c179e"
             ],
             [
              0.4444444444444444,
              "#bd3786"
             ],
             [
              0.5555555555555556,
              "#d8576b"
             ],
             [
              0.6666666666666666,
              "#ed7953"
             ],
             [
              0.7777777777777778,
              "#fb9f3a"
             ],
             [
              0.8888888888888888,
              "#fdca26"
             ],
             [
              1,
              "#f0f921"
             ]
            ],
            "type": "heatmap"
           }
          ],
          "heatmapgl": [
           {
            "colorbar": {
             "outlinewidth": 0,
             "ticks": ""
            },
            "colorscale": [
             [
              0,
              "#0d0887"
             ],
             [
              0.1111111111111111,
              "#46039f"
             ],
             [
              0.2222222222222222,
              "#7201a8"
             ],
             [
              0.3333333333333333,
              "#9c179e"
             ],
             [
              0.4444444444444444,
              "#bd3786"
             ],
             [
              0.5555555555555556,
              "#d8576b"
             ],
             [
              0.6666666666666666,
              "#ed7953"
             ],
             [
              0.7777777777777778,
              "#fb9f3a"
             ],
             [
              0.8888888888888888,
              "#fdca26"
             ],
             [
              1,
              "#f0f921"
             ]
            ],
            "type": "heatmapgl"
           }
          ],
          "histogram": [
           {
            "marker": {
             "colorbar": {
              "outlinewidth": 0,
              "ticks": ""
             }
            },
            "type": "histogram"
           }
          ],
          "histogram2d": [
           {
            "colorbar": {
             "outlinewidth": 0,
             "ticks": ""
            },
            "colorscale": [
             [
              0,
              "#0d0887"
             ],
             [
              0.1111111111111111,
              "#46039f"
             ],
             [
              0.2222222222222222,
              "#7201a8"
             ],
             [
              0.3333333333333333,
              "#9c179e"
             ],
             [
              0.4444444444444444,
              "#bd3786"
             ],
             [
              0.5555555555555556,
              "#d8576b"
             ],
             [
              0.6666666666666666,
              "#ed7953"
             ],
             [
              0.7777777777777778,
              "#fb9f3a"
             ],
             [
              0.8888888888888888,
              "#fdca26"
             ],
             [
              1,
              "#f0f921"
             ]
            ],
            "type": "histogram2d"
           }
          ],
          "histogram2dcontour": [
           {
            "colorbar": {
             "outlinewidth": 0,
             "ticks": ""
            },
            "colorscale": [
             [
              0,
              "#0d0887"
             ],
             [
              0.1111111111111111,
              "#46039f"
             ],
             [
              0.2222222222222222,
              "#7201a8"
             ],
             [
              0.3333333333333333,
              "#9c179e"
             ],
             [
              0.4444444444444444,
              "#bd3786"
             ],
             [
              0.5555555555555556,
              "#d8576b"
             ],
             [
              0.6666666666666666,
              "#ed7953"
             ],
             [
              0.7777777777777778,
              "#fb9f3a"
             ],
             [
              0.8888888888888888,
              "#fdca26"
             ],
             [
              1,
              "#f0f921"
             ]
            ],
            "type": "histogram2dcontour"
           }
          ],
          "mesh3d": [
           {
            "colorbar": {
             "outlinewidth": 0,
             "ticks": ""
            },
            "type": "mesh3d"
           }
          ],
          "parcoords": [
           {
            "line": {
             "colorbar": {
              "outlinewidth": 0,
              "ticks": ""
             }
            },
            "type": "parcoords"
           }
          ],
          "pie": [
           {
            "automargin": true,
            "type": "pie"
           }
          ],
          "scatter": [
           {
            "marker": {
             "colorbar": {
              "outlinewidth": 0,
              "ticks": ""
             }
            },
            "type": "scatter"
           }
          ],
          "scatter3d": [
           {
            "line": {
             "colorbar": {
              "outlinewidth": 0,
              "ticks": ""
             }
            },
            "marker": {
             "colorbar": {
              "outlinewidth": 0,
              "ticks": ""
             }
            },
            "type": "scatter3d"
           }
          ],
          "scattercarpet": [
           {
            "marker": {
             "colorbar": {
              "outlinewidth": 0,
              "ticks": ""
             }
            },
            "type": "scattercarpet"
           }
          ],
          "scattergeo": [
           {
            "marker": {
             "colorbar": {
              "outlinewidth": 0,
              "ticks": ""
             }
            },
            "type": "scattergeo"
           }
          ],
          "scattergl": [
           {
            "marker": {
             "colorbar": {
              "outlinewidth": 0,
              "ticks": ""
             }
            },
            "type": "scattergl"
           }
          ],
          "scattermapbox": [
           {
            "marker": {
             "colorbar": {
              "outlinewidth": 0,
              "ticks": ""
             }
            },
            "type": "scattermapbox"
           }
          ],
          "scatterpolar": [
           {
            "marker": {
             "colorbar": {
              "outlinewidth": 0,
              "ticks": ""
             }
            },
            "type": "scatterpolar"
           }
          ],
          "scatterpolargl": [
           {
            "marker": {
             "colorbar": {
              "outlinewidth": 0,
              "ticks": ""
             }
            },
            "type": "scatterpolargl"
           }
          ],
          "scatterternary": [
           {
            "marker": {
             "colorbar": {
              "outlinewidth": 0,
              "ticks": ""
             }
            },
            "type": "scatterternary"
           }
          ],
          "surface": [
           {
            "colorbar": {
             "outlinewidth": 0,
             "ticks": ""
            },
            "colorscale": [
             [
              0,
              "#0d0887"
             ],
             [
              0.1111111111111111,
              "#46039f"
             ],
             [
              0.2222222222222222,
              "#7201a8"
             ],
             [
              0.3333333333333333,
              "#9c179e"
             ],
             [
              0.4444444444444444,
              "#bd3786"
             ],
             [
              0.5555555555555556,
              "#d8576b"
             ],
             [
              0.6666666666666666,
              "#ed7953"
             ],
             [
              0.7777777777777778,
              "#fb9f3a"
             ],
             [
              0.8888888888888888,
              "#fdca26"
             ],
             [
              1,
              "#f0f921"
             ]
            ],
            "type": "surface"
           }
          ],
          "table": [
           {
            "cells": {
             "fill": {
              "color": "#EBF0F8"
             },
             "line": {
              "color": "white"
             }
            },
            "header": {
             "fill": {
              "color": "#C8D4E3"
             },
             "line": {
              "color": "white"
             }
            },
            "type": "table"
           }
          ]
         },
         "layout": {
          "annotationdefaults": {
           "arrowcolor": "#2a3f5f",
           "arrowhead": 0,
           "arrowwidth": 1
          },
          "coloraxis": {
           "colorbar": {
            "outlinewidth": 0,
            "ticks": ""
           }
          },
          "colorscale": {
           "diverging": [
            [
             0,
             "#8e0152"
            ],
            [
             0.1,
             "#c51b7d"
            ],
            [
             0.2,
             "#de77ae"
            ],
            [
             0.3,
             "#f1b6da"
            ],
            [
             0.4,
             "#fde0ef"
            ],
            [
             0.5,
             "#f7f7f7"
            ],
            [
             0.6,
             "#e6f5d0"
            ],
            [
             0.7,
             "#b8e186"
            ],
            [
             0.8,
             "#7fbc41"
            ],
            [
             0.9,
             "#4d9221"
            ],
            [
             1,
             "#276419"
            ]
           ],
           "sequential": [
            [
             0,
             "#0d0887"
            ],
            [
             0.1111111111111111,
             "#46039f"
            ],
            [
             0.2222222222222222,
             "#7201a8"
            ],
            [
             0.3333333333333333,
             "#9c179e"
            ],
            [
             0.4444444444444444,
             "#bd3786"
            ],
            [
             0.5555555555555556,
             "#d8576b"
            ],
            [
             0.6666666666666666,
             "#ed7953"
            ],
            [
             0.7777777777777778,
             "#fb9f3a"
            ],
            [
             0.8888888888888888,
             "#fdca26"
            ],
            [
             1,
             "#f0f921"
            ]
           ],
           "sequentialminus": [
            [
             0,
             "#0d0887"
            ],
            [
             0.1111111111111111,
             "#46039f"
            ],
            [
             0.2222222222222222,
             "#7201a8"
            ],
            [
             0.3333333333333333,
             "#9c179e"
            ],
            [
             0.4444444444444444,
             "#bd3786"
            ],
            [
             0.5555555555555556,
             "#d8576b"
            ],
            [
             0.6666666666666666,
             "#ed7953"
            ],
            [
             0.7777777777777778,
             "#fb9f3a"
            ],
            [
             0.8888888888888888,
             "#fdca26"
            ],
            [
             1,
             "#f0f921"
            ]
           ]
          },
          "colorway": [
           "#636efa",
           "#EF553B",
           "#00cc96",
           "#ab63fa",
           "#FFA15A",
           "#19d3f3",
           "#FF6692",
           "#B6E880",
           "#FF97FF",
           "#FECB52"
          ],
          "font": {
           "color": "#2a3f5f"
          },
          "geo": {
           "bgcolor": "white",
           "lakecolor": "white",
           "landcolor": "#E5ECF6",
           "showlakes": true,
           "showland": true,
           "subunitcolor": "white"
          },
          "hoverlabel": {
           "align": "left"
          },
          "hovermode": "closest",
          "mapbox": {
           "style": "light"
          },
          "paper_bgcolor": "white",
          "plot_bgcolor": "#E5ECF6",
          "polar": {
           "angularaxis": {
            "gridcolor": "white",
            "linecolor": "white",
            "ticks": ""
           },
           "bgcolor": "#E5ECF6",
           "radialaxis": {
            "gridcolor": "white",
            "linecolor": "white",
            "ticks": ""
           }
          },
          "scene": {
           "xaxis": {
            "backgroundcolor": "#E5ECF6",
            "gridcolor": "white",
            "gridwidth": 2,
            "linecolor": "white",
            "showbackground": true,
            "ticks": "",
            "zerolinecolor": "white"
           },
           "yaxis": {
            "backgroundcolor": "#E5ECF6",
            "gridcolor": "white",
            "gridwidth": 2,
            "linecolor": "white",
            "showbackground": true,
            "ticks": "",
            "zerolinecolor": "white"
           },
           "zaxis": {
            "backgroundcolor": "#E5ECF6",
            "gridcolor": "white",
            "gridwidth": 2,
            "linecolor": "white",
            "showbackground": true,
            "ticks": "",
            "zerolinecolor": "white"
           }
          },
          "shapedefaults": {
           "line": {
            "color": "#2a3f5f"
           }
          },
          "ternary": {
           "aaxis": {
            "gridcolor": "white",
            "linecolor": "white",
            "ticks": ""
           },
           "baxis": {
            "gridcolor": "white",
            "linecolor": "white",
            "ticks": ""
           },
           "bgcolor": "#E5ECF6",
           "caxis": {
            "gridcolor": "white",
            "linecolor": "white",
            "ticks": ""
           }
          },
          "title": {
           "x": 0.05
          },
          "xaxis": {
           "automargin": true,
           "gridcolor": "white",
           "linecolor": "white",
           "ticks": "",
           "title": {
            "standoff": 15
           },
           "zerolinecolor": "white",
           "zerolinewidth": 2
          },
          "yaxis": {
           "automargin": true,
           "gridcolor": "white",
           "linecolor": "white",
           "ticks": "",
           "title": {
            "standoff": 15
           },
           "zerolinecolor": "white",
           "zerolinewidth": 2
          }
         }
        },
        "xaxis": {
         "anchor": "y",
         "domain": [
          0,
          1
         ],
         "title": {
          "text": "value"
         }
        },
        "yaxis": {
         "anchor": "x",
         "domain": [
          0,
          1
         ],
         "title": {
          "text": "F_AGECAT"
         }
        }
       }
      },
      "text/html": [
       "<div>\n",
       "        \n",
       "        \n",
       "            <div id=\"b4458c45-a372-4b65-a09d-2bb3f0fdc3d7\" class=\"plotly-graph-div\" style=\"height:525px; width:100%;\"></div>\n",
       "            <script type=\"text/javascript\">\n",
       "                require([\"plotly\"], function(Plotly) {\n",
       "                    window.PLOTLYENV=window.PLOTLYENV || {};\n",
       "                    \n",
       "                if (document.getElementById(\"b4458c45-a372-4b65-a09d-2bb3f0fdc3d7\")) {\n",
       "                    Plotly.newPlot(\n",
       "                        'b4458c45-a372-4b65-a09d-2bb3f0fdc3d7',\n",
       "                        [{\"alignmentgroup\": \"True\", \"hovertemplate\": \"POLICY1_W42=Scientists should take an active role in public policy debates about scientific issues<br>value=%{x}<br>F_AGECAT=%{y}<extra></extra>\", \"legendgroup\": \"Scientists should take an active role in public policy debates about scientific issues\", \"marker\": {\"color\": \"#636efa\"}, \"name\": \"Scientists should take an active role in public policy debates about scientific issues\", \"offsetgroup\": \"Scientists should take an active role in public policy debates about scientific issues\", \"orientation\": \"h\", \"showlegend\": true, \"textposition\": \"auto\", \"type\": \"bar\", \"x\": [64.98300332800805, 61.97533269210812, 56.188705611963876, 56.242210047362605, 69.93932491230697], \"xaxis\": \"x\", \"y\": [\"18-29\", \"30-49\", \"50-64\", \"65+\", \"DK/REF\"], \"yaxis\": \"y\"}, {\"alignmentgroup\": \"True\", \"hovertemplate\": \"POLICY1_W42=Scientists should focus on establishing sound scientific facts and stay out of public policy debates<br>value=%{x}<br>F_AGECAT=%{y}<extra></extra>\", \"legendgroup\": \"Scientists should focus on establishing sound scientific facts and stay out of public policy debates\", \"marker\": {\"color\": \"#EF553B\"}, \"name\": \"Scientists should focus on establishing sound scientific facts and stay out of public policy debates\", \"offsetgroup\": \"Scientists should focus on establishing sound scientific facts and stay out of public policy debates\", \"orientation\": \"h\", \"showlegend\": true, \"textposition\": \"auto\", \"type\": \"bar\", \"x\": [34.39004722418979, 37.0412026010977, 42.540865003743626, 41.5822285240925, 30.060675087693028], \"xaxis\": \"x\", \"y\": [\"18-29\", \"30-49\", \"50-64\", \"65+\", \"DK/REF\"], \"yaxis\": \"y\"}, {\"alignmentgroup\": \"True\", \"hovertemplate\": \"POLICY1_W42=Refused<br>value=%{x}<br>F_AGECAT=%{y}<extra></extra>\", \"legendgroup\": \"Refused\", \"marker\": {\"color\": \"#00cc96\"}, \"name\": \"Refused\", \"offsetgroup\": \"Refused\", \"orientation\": \"h\", \"showlegend\": true, \"textposition\": \"auto\", \"type\": \"bar\", \"x\": [0.6269494478021634, 0.9834647067941901, 1.2704293842924916, 2.175561428544896, 0.0], \"xaxis\": \"x\", \"y\": [\"18-29\", \"30-49\", \"50-64\", \"65+\", \"DK/REF\"], \"yaxis\": \"y\"}],\n",
       "                        {\"barmode\": \"relative\", \"legend\": {\"orientation\": \"h\", \"title\": {\"text\": \"POLICY1_W42\"}, \"tracegroupgap\": 0, \"x\": 1, \"xanchor\": \"right\", \"y\": 1.02, \"yanchor\": \"bottom\"}, \"margin\": {\"t\": 60}, \"template\": {\"data\": {\"bar\": [{\"error_x\": {\"color\": \"#2a3f5f\"}, \"error_y\": {\"color\": \"#2a3f5f\"}, \"marker\": {\"line\": {\"color\": \"#E5ECF6\", \"width\": 0.5}}, \"type\": \"bar\"}], \"barpolar\": [{\"marker\": {\"line\": {\"color\": \"#E5ECF6\", \"width\": 0.5}}, \"type\": \"barpolar\"}], \"carpet\": [{\"aaxis\": {\"endlinecolor\": \"#2a3f5f\", \"gridcolor\": \"white\", \"linecolor\": \"white\", \"minorgridcolor\": \"white\", \"startlinecolor\": \"#2a3f5f\"}, \"baxis\": {\"endlinecolor\": \"#2a3f5f\", \"gridcolor\": \"white\", \"linecolor\": \"white\", \"minorgridcolor\": \"white\", \"startlinecolor\": \"#2a3f5f\"}, \"type\": \"carpet\"}], \"choropleth\": [{\"colorbar\": {\"outlinewidth\": 0, \"ticks\": \"\"}, \"type\": \"choropleth\"}], \"contour\": [{\"colorbar\": {\"outlinewidth\": 0, \"ticks\": \"\"}, \"colorscale\": [[0.0, \"#0d0887\"], [0.1111111111111111, \"#46039f\"], [0.2222222222222222, \"#7201a8\"], [0.3333333333333333, \"#9c179e\"], [0.4444444444444444, \"#bd3786\"], [0.5555555555555556, \"#d8576b\"], [0.6666666666666666, \"#ed7953\"], [0.7777777777777778, \"#fb9f3a\"], [0.8888888888888888, \"#fdca26\"], [1.0, \"#f0f921\"]], \"type\": \"contour\"}], \"contourcarpet\": [{\"colorbar\": {\"outlinewidth\": 0, \"ticks\": \"\"}, \"type\": \"contourcarpet\"}], \"heatmap\": [{\"colorbar\": {\"outlinewidth\": 0, \"ticks\": \"\"}, \"colorscale\": [[0.0, \"#0d0887\"], [0.1111111111111111, \"#46039f\"], [0.2222222222222222, \"#7201a8\"], [0.3333333333333333, \"#9c179e\"], [0.4444444444444444, \"#bd3786\"], [0.5555555555555556, \"#d8576b\"], [0.6666666666666666, \"#ed7953\"], [0.7777777777777778, \"#fb9f3a\"], [0.8888888888888888, \"#fdca26\"], [1.0, \"#f0f921\"]], \"type\": \"heatmap\"}], \"heatmapgl\": [{\"colorbar\": {\"outlinewidth\": 0, \"ticks\": \"\"}, \"colorscale\": [[0.0, \"#0d0887\"], [0.1111111111111111, \"#46039f\"], [0.2222222222222222, \"#7201a8\"], [0.3333333333333333, \"#9c179e\"], [0.4444444444444444, \"#bd3786\"], [0.5555555555555556, \"#d8576b\"], [0.6666666666666666, \"#ed7953\"], [0.7777777777777778, \"#fb9f3a\"], [0.8888888888888888, \"#fdca26\"], [1.0, \"#f0f921\"]], \"type\": \"heatmapgl\"}], \"histogram\": [{\"marker\": {\"colorbar\": {\"outlinewidth\": 0, \"ticks\": \"\"}}, \"type\": \"histogram\"}], \"histogram2d\": [{\"colorbar\": {\"outlinewidth\": 0, \"ticks\": \"\"}, \"colorscale\": [[0.0, \"#0d0887\"], [0.1111111111111111, \"#46039f\"], [0.2222222222222222, \"#7201a8\"], [0.3333333333333333, \"#9c179e\"], [0.4444444444444444, \"#bd3786\"], [0.5555555555555556, \"#d8576b\"], [0.6666666666666666, \"#ed7953\"], [0.7777777777777778, \"#fb9f3a\"], [0.8888888888888888, \"#fdca26\"], [1.0, \"#f0f921\"]], \"type\": \"histogram2d\"}], \"histogram2dcontour\": [{\"colorbar\": {\"outlinewidth\": 0, \"ticks\": \"\"}, \"colorscale\": [[0.0, \"#0d0887\"], [0.1111111111111111, \"#46039f\"], [0.2222222222222222, \"#7201a8\"], [0.3333333333333333, \"#9c179e\"], [0.4444444444444444, \"#bd3786\"], [0.5555555555555556, \"#d8576b\"], [0.6666666666666666, \"#ed7953\"], [0.7777777777777778, \"#fb9f3a\"], [0.8888888888888888, \"#fdca26\"], [1.0, \"#f0f921\"]], \"type\": \"histogram2dcontour\"}], \"mesh3d\": [{\"colorbar\": {\"outlinewidth\": 0, \"ticks\": \"\"}, \"type\": \"mesh3d\"}], \"parcoords\": [{\"line\": {\"colorbar\": {\"outlinewidth\": 0, \"ticks\": \"\"}}, \"type\": \"parcoords\"}], \"pie\": [{\"automargin\": true, \"type\": \"pie\"}], \"scatter\": [{\"marker\": {\"colorbar\": {\"outlinewidth\": 0, \"ticks\": \"\"}}, \"type\": \"scatter\"}], \"scatter3d\": [{\"line\": {\"colorbar\": {\"outlinewidth\": 0, \"ticks\": \"\"}}, \"marker\": {\"colorbar\": {\"outlinewidth\": 0, \"ticks\": \"\"}}, \"type\": \"scatter3d\"}], \"scattercarpet\": [{\"marker\": {\"colorbar\": {\"outlinewidth\": 0, \"ticks\": \"\"}}, \"type\": \"scattercarpet\"}], \"scattergeo\": [{\"marker\": {\"colorbar\": {\"outlinewidth\": 0, \"ticks\": \"\"}}, \"type\": \"scattergeo\"}], \"scattergl\": [{\"marker\": {\"colorbar\": {\"outlinewidth\": 0, \"ticks\": \"\"}}, \"type\": \"scattergl\"}], \"scattermapbox\": [{\"marker\": {\"colorbar\": {\"outlinewidth\": 0, \"ticks\": \"\"}}, \"type\": \"scattermapbox\"}], \"scatterpolar\": [{\"marker\": {\"colorbar\": {\"outlinewidth\": 0, \"ticks\": \"\"}}, \"type\": \"scatterpolar\"}], \"scatterpolargl\": [{\"marker\": {\"colorbar\": {\"outlinewidth\": 0, \"ticks\": \"\"}}, \"type\": \"scatterpolargl\"}], \"scatterternary\": [{\"marker\": {\"colorbar\": {\"outlinewidth\": 0, \"ticks\": \"\"}}, \"type\": \"scatterternary\"}], \"surface\": [{\"colorbar\": {\"outlinewidth\": 0, \"ticks\": \"\"}, \"colorscale\": [[0.0, \"#0d0887\"], [0.1111111111111111, \"#46039f\"], [0.2222222222222222, \"#7201a8\"], [0.3333333333333333, \"#9c179e\"], [0.4444444444444444, \"#bd3786\"], [0.5555555555555556, \"#d8576b\"], [0.6666666666666666, \"#ed7953\"], [0.7777777777777778, \"#fb9f3a\"], [0.8888888888888888, \"#fdca26\"], [1.0, \"#f0f921\"]], \"type\": \"surface\"}], \"table\": [{\"cells\": {\"fill\": {\"color\": \"#EBF0F8\"}, \"line\": {\"color\": \"white\"}}, \"header\": {\"fill\": {\"color\": \"#C8D4E3\"}, \"line\": {\"color\": \"white\"}}, \"type\": \"table\"}]}, \"layout\": {\"annotationdefaults\": {\"arrowcolor\": \"#2a3f5f\", \"arrowhead\": 0, \"arrowwidth\": 1}, \"coloraxis\": {\"colorbar\": {\"outlinewidth\": 0, \"ticks\": \"\"}}, \"colorscale\": {\"diverging\": [[0, \"#8e0152\"], [0.1, \"#c51b7d\"], [0.2, \"#de77ae\"], [0.3, \"#f1b6da\"], [0.4, \"#fde0ef\"], [0.5, \"#f7f7f7\"], [0.6, \"#e6f5d0\"], [0.7, \"#b8e186\"], [0.8, \"#7fbc41\"], [0.9, \"#4d9221\"], [1, \"#276419\"]], \"sequential\": [[0.0, \"#0d0887\"], [0.1111111111111111, \"#46039f\"], [0.2222222222222222, \"#7201a8\"], [0.3333333333333333, \"#9c179e\"], [0.4444444444444444, \"#bd3786\"], [0.5555555555555556, \"#d8576b\"], [0.6666666666666666, \"#ed7953\"], [0.7777777777777778, \"#fb9f3a\"], [0.8888888888888888, \"#fdca26\"], [1.0, \"#f0f921\"]], \"sequentialminus\": [[0.0, \"#0d0887\"], [0.1111111111111111, \"#46039f\"], [0.2222222222222222, \"#7201a8\"], [0.3333333333333333, \"#9c179e\"], [0.4444444444444444, \"#bd3786\"], [0.5555555555555556, \"#d8576b\"], [0.6666666666666666, \"#ed7953\"], [0.7777777777777778, \"#fb9f3a\"], [0.8888888888888888, \"#fdca26\"], [1.0, \"#f0f921\"]]}, \"colorway\": [\"#636efa\", \"#EF553B\", \"#00cc96\", \"#ab63fa\", \"#FFA15A\", \"#19d3f3\", \"#FF6692\", \"#B6E880\", \"#FF97FF\", \"#FECB52\"], \"font\": {\"color\": \"#2a3f5f\"}, \"geo\": {\"bgcolor\": \"white\", \"lakecolor\": \"white\", \"landcolor\": \"#E5ECF6\", \"showlakes\": true, \"showland\": true, \"subunitcolor\": \"white\"}, \"hoverlabel\": {\"align\": \"left\"}, \"hovermode\": \"closest\", \"mapbox\": {\"style\": \"light\"}, \"paper_bgcolor\": \"white\", \"plot_bgcolor\": \"#E5ECF6\", \"polar\": {\"angularaxis\": {\"gridcolor\": \"white\", \"linecolor\": \"white\", \"ticks\": \"\"}, \"bgcolor\": \"#E5ECF6\", \"radialaxis\": {\"gridcolor\": \"white\", \"linecolor\": \"white\", \"ticks\": \"\"}}, \"scene\": {\"xaxis\": {\"backgroundcolor\": \"#E5ECF6\", \"gridcolor\": \"white\", \"gridwidth\": 2, \"linecolor\": \"white\", \"showbackground\": true, \"ticks\": \"\", \"zerolinecolor\": \"white\"}, \"yaxis\": {\"backgroundcolor\": \"#E5ECF6\", \"gridcolor\": \"white\", \"gridwidth\": 2, \"linecolor\": \"white\", \"showbackground\": true, \"ticks\": \"\", \"zerolinecolor\": \"white\"}, \"zaxis\": {\"backgroundcolor\": \"#E5ECF6\", \"gridcolor\": \"white\", \"gridwidth\": 2, \"linecolor\": \"white\", \"showbackground\": true, \"ticks\": \"\", \"zerolinecolor\": \"white\"}}, \"shapedefaults\": {\"line\": {\"color\": \"#2a3f5f\"}}, \"ternary\": {\"aaxis\": {\"gridcolor\": \"white\", \"linecolor\": \"white\", \"ticks\": \"\"}, \"baxis\": {\"gridcolor\": \"white\", \"linecolor\": \"white\", \"ticks\": \"\"}, \"bgcolor\": \"#E5ECF6\", \"caxis\": {\"gridcolor\": \"white\", \"linecolor\": \"white\", \"ticks\": \"\"}}, \"title\": {\"x\": 0.05}, \"xaxis\": {\"automargin\": true, \"gridcolor\": \"white\", \"linecolor\": \"white\", \"ticks\": \"\", \"title\": {\"standoff\": 15}, \"zerolinecolor\": \"white\", \"zerolinewidth\": 2}, \"yaxis\": {\"automargin\": true, \"gridcolor\": \"white\", \"linecolor\": \"white\", \"ticks\": \"\", \"title\": {\"standoff\": 15}, \"zerolinecolor\": \"white\", \"zerolinewidth\": 2}}}, \"xaxis\": {\"anchor\": \"y\", \"domain\": [0.0, 1.0], \"title\": {\"text\": \"value\"}}, \"yaxis\": {\"anchor\": \"x\", \"domain\": [0.0, 1.0], \"title\": {\"text\": \"F_AGECAT\"}}},\n",
       "                        {\"responsive\": true}\n",
       "                    ).then(function(){\n",
       "                            \n",
       "var gd = document.getElementById('b4458c45-a372-4b65-a09d-2bb3f0fdc3d7');\n",
       "var x = new MutationObserver(function (mutations, observer) {{\n",
       "        var display = window.getComputedStyle(gd).display;\n",
       "        if (!display || display === 'none') {{\n",
       "            console.log([gd, 'removed!']);\n",
       "            Plotly.purge(gd);\n",
       "            observer.disconnect();\n",
       "        }}\n",
       "}});\n",
       "\n",
       "// Listen for the removal of the full notebook cells\n",
       "var notebookContainer = gd.closest('#notebook-container');\n",
       "if (notebookContainer) {{\n",
       "    x.observe(notebookContainer, {childList: true});\n",
       "}}\n",
       "\n",
       "// Listen for the clearing of the current output cell\n",
       "var outputEl = gd.closest('.output');\n",
       "if (outputEl) {{\n",
       "    x.observe(outputEl, {childList: true});\n",
       "}}\n",
       "\n",
       "                        })\n",
       "                };\n",
       "                });\n",
       "            </script>\n",
       "        </div>"
      ]
     },
     "metadata": {},
     "output_type": "display_data"
    }
   ],
   "source": [
    "fig2.update_layout(legend=dict(\n",
    "    orientation=\"h\",\n",
    "    yanchor=\"bottom\",\n",
    "    y=1.02,\n",
    "    xanchor=\"right\",\n",
    "    x=1\n",
    "))"
   ]
  },
  {
   "cell_type": "code",
   "execution_count": null,
   "metadata": {},
   "outputs": [],
   "source": []
  }
 ],
 "metadata": {
  "kernelspec": {
   "display_name": "Python 3",
   "language": "python",
   "name": "python3"
  },
  "language_info": {
   "codemirror_mode": {
    "name": "ipython",
    "version": 3
   },
   "file_extension": ".py",
   "mimetype": "text/x-python",
   "name": "python",
   "nbconvert_exporter": "python",
   "pygments_lexer": "ipython3",
   "version": "3.7.7"
  }
 },
 "nbformat": 4,
 "nbformat_minor": 4
}
