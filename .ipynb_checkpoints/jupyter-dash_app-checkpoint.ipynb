{
 "cells": [
  {
   "cell_type": "code",
   "execution_count": 27,
   "metadata": {},
   "outputs": [],
   "source": [
    "from jupyter_dash import JupyterDash\n",
    "import dash_core_components as dcc\n",
    "import dash_bootstrap_components as dbc\n",
    "import dash_html_components as html\n",
    "from dash.dependencies import Input, Output, State\n",
    "import plotly.express as px\n",
    "\n",
    "import pandas as pd\n",
    "import numpy as np\n",
    "import pyreadstat\n",
    "import re\n"
   ]
  },
  {
   "cell_type": "code",
   "execution_count": 2,
   "metadata": {
    "scrolled": true
   },
   "outputs": [],
   "source": [
    "# Load Data\n",
    "\n",
    "fpath = 'data/ATP W42.sav'\n",
    "\n",
    "df, meta = pyreadstat.read_sav(fpath)"
   ]
  },
  {
   "cell_type": "code",
   "execution_count": 3,
   "metadata": {},
   "outputs": [],
   "source": [
    "# Used meta.column_names to find questionnaire items according to thematic subject matter code (e.g. starts with 'RQ')\n",
    "# Created a quick little helper function to group these theme codes into lists\n",
    "\n",
    "def list_helper(theme_code):\n",
    "    return [i for i in df.columns if theme_code in i]\n",
    "\n",
    "past_future = ['PAST_W42', 'FUTURE_W42']\n",
    "society = ['SC1_W42']\n",
    "policy = list_helper('POLICY')\n",
    "confidence = list_helper('CONF')\n",
    "rq_form1 = list_helper('RQ')\n",
    "pw_form2 = list_helper('PQ')\n",
    "scm = list_helper('SCM')\n",
    "q = [i for i in df.columns if re.search(\"^Q[0-9]\", i)]\n",
    "pop = list_helper('POP')\n",
    "knowledge = list_helper('KNOW')\n",
    "demographics = list_helper('F_')\n",
    "weight = ['WEIGHT_W42']"
   ]
  },
  {
   "cell_type": "code",
   "execution_count": 4,
   "metadata": {},
   "outputs": [],
   "source": [
    "# Changes the values in the dataframe according to the value formats in the metadata.\n",
    "# Because the data is Categorical or Ordinal, any functions we perform won't require the original float values\n",
    "\n",
    "df_copy = pyreadstat.pyreadstat.set_value_labels(df, meta)"
   ]
  },
  {
   "cell_type": "code",
   "execution_count": 20,
   "metadata": {},
   "outputs": [],
   "source": [
    "# Dictionary of column names (abbreviations) and corresponding column values (instruction on questionnaire)\n",
    "# list comprehension is for dcc.Dropdown 'options' parameter\n",
    "meta_list = zip(meta.column_names, meta.column_labels)\n",
    "policy_dropdown = [{'label': y, 'value': x} for x, y in meta_list if x in policy]\n",
    "\n",
    "\n",
    "# Note: had to redeclare meta_list for second list comprehension. Returns empty list otherwise\n",
    "\n",
    "meta_list = zip(meta.column_names, meta.column_labels)\n",
    "demo_dropdown = [{'label': y, 'value': x} for x, y in meta_list if x in demographics]"
   ]
  },
  {
   "cell_type": "markdown",
   "metadata": {},
   "source": [
    "##### Example: \n",
    "meta_dict['SC1_W42']\n",
    "##### Output:\n",
    "'SC1. Overall, would you say science has had a mostly positive effect on our society or a mostly negative effect on our society?'"
   ]
  },
  {
   "cell_type": "code",
   "execution_count": 45,
   "metadata": {},
   "outputs": [
    {
     "name": "stdout",
     "output_type": "stream",
     "text": [
      "Dash app running on http://127.0.0.1:8050/\n"
     ]
    }
   ],
   "source": [
    "external_stylesheets = [dbc.themes.LUMEN]\n",
    "\n",
    "app = JupyterDash(__name__, external_stylesheets = external_stylesheets)\n",
    "\n",
    "\n",
    "app.layout = html.Div([\n",
    "        dbc.Container([\n",
    "        \n",
    "        html.Div([\n",
    "            dcc.Dropdown(\n",
    "                id = 'xaxis-column',\n",
    "                options = demo_dropdown,\n",
    "                value = 'F_AGECAT'\n",
    "            )\n",
    "        ]),\n",
    "        html.Div([\n",
    "            dcc.Dropdown(\n",
    "                id = 'yaxis-column',\n",
    "                options = policy_dropdown,\n",
    "                value = 'POLICY1_W42'\n",
    "            )\n",
    "        ]),\n",
    "    \n",
    "    dcc.Graph(id='indicator-bar')\n",
    "    ]),\n",
    "\n",
    "])\n",
    "\n",
    "\n",
    "@app.callback(\n",
    "    Output('indicator-bar', 'figure'),\n",
    "    [Input('xaxis-column', 'value'),\n",
    "    Input('yaxis-column', 'value')])\n",
    "def update_graph(x_axis, y_axis):\n",
    "    new_df = pd.crosstab(df_copy[x_axis],\n",
    "                         df_copy[y_axis],\n",
    "                         df_copy.WEIGHT_W42, aggfunc = sum, dropna=True,\n",
    "                         normalize='index'). \\\n",
    "                         loc[meta.variable_value_labels[x_axis].values()]. \\\n",
    "                         loc[:, meta.variable_value_labels[y_axis].values()]*100\n",
    "    \n",
    "    fig = px.bar(new_df, x=new_df.columns, y=new_df.index )\n",
    "\n",
    "    fig.update_layout(legend=dict(\n",
    "        orientation=\"h\",\n",
    "        yanchor=\"bottom\",\n",
    "        y=1.02,\n",
    "        xanchor=\"right\",\n",
    "        x=1\n",
    "    ))\n",
    "    \n",
    "    return fig\n",
    "\n",
    "\n",
    "if __name__ == '__main__':\n",
    "    app.run_server(debug=True, inline_exceptions=True)"
   ]
  },
  {
   "cell_type": "code",
   "execution_count": null,
   "metadata": {},
   "outputs": [],
   "source": []
  }
 ],
 "metadata": {
  "kernelspec": {
   "display_name": "Python 3",
   "language": "python",
   "name": "python3"
  },
  "language_info": {
   "codemirror_mode": {
    "name": "ipython",
    "version": 3
   },
   "file_extension": ".py",
   "mimetype": "text/x-python",
   "name": "python",
   "nbconvert_exporter": "python",
   "pygments_lexer": "ipython3",
   "version": "3.7.7"
  }
 },
 "nbformat": 4,
 "nbformat_minor": 4
}
