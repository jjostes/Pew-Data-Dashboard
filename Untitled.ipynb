{
 "cells": [
  {
   "cell_type": "code",
   "execution_count": 1,
   "metadata": {},
   "outputs": [],
   "source": [
    "import pandas as pd\n",
    "import numpy as np\n",
    "import pyreadstat"
   ]
  },
  {
   "cell_type": "code",
   "execution_count": 14,
   "metadata": {},
   "outputs": [],
   "source": [
    "fpath = './Datasets/W42_Jan19/ATP W42.sav'\n",
    "\n",
    "df, meta = pyreadstat.read_sav(fpath)\n"
   ]
  },
  {
   "cell_type": "code",
   "execution_count": 12,
   "metadata": {},
   "outputs": [
    {
     "data": {
      "text/plain": [
       "Trust the research findings MORE    0.533243\n",
       "Makes NO DIFFERENCE either way      0.358940\n",
       "Trust the research findings LESS    0.100180\n",
       "Refused                             0.007637\n",
       "Name: Q6F1_W42, dtype: float64"
      ]
     },
     "execution_count": 12,
     "metadata": {},
     "output_type": "execute_result"
    }
   ],
   "source": [
    "df['Q6F1_W42'].map(meta.variable_value_labels['Q6F1_W42'])\\\n",
    "                .value_counts(normalize=True)"
   ]
  },
  {
   "cell_type": "code",
   "execution_count": 10,
   "metadata": {},
   "outputs": [],
   "source": [
    "meta_dict = dict(zip(meta.column_names, meta.column_labels))"
   ]
  },
  {
   "cell_type": "code",
   "execution_count": null,
   "metadata": {
    "scrolled": true
   },
   "outputs": [],
   "source": [
    "demographics = df.columns[-25:-1]\n",
    "labels = meta.column_labels[-25:-1]\n",
    "\n",
    "col_dict = zip(demographics, labels)\n",
    "\n",
    "for k, v in col_dict:\n",
    "    print(k + ': ' + v)\n"
   ]
  },
  {
   "cell_type": "code",
   "execution_count": 15,
   "metadata": {},
   "outputs": [
    {
     "data": {
      "text/plain": [
       "White non-Hispanic    0.647625\n",
       "Hispanic              0.160842\n",
       "Black non-Hispanic    0.113351\n",
       "Other                 0.064740\n",
       "Refused               0.013441\n",
       "Name: F_RACETHN, dtype: float64"
      ]
     },
     "execution_count": 15,
     "metadata": {},
     "output_type": "execute_result"
    }
   ],
   "source": [
    "df['F_RACETHN'].map(meta.variable_value_labels['F_RACETHN']).value_counts(normalize=True)"
   ]
  },
  {
   "cell_type": "code",
   "execution_count": 12,
   "metadata": {},
   "outputs": [],
   "source": [
    "test = pd.crosstab(df['Q6F1_W42'] \\\n",
    "        .map(meta.variable_value_labels['Q6F1_W42']), \\\n",
    "        df['F_IDEO'].map(meta.variable_value_labels['F_IDEO']), \\\n",
    "        dropna=True, normalize='columns') \\\n",
    "        .loc[meta.variable_value_labels['Q6F1_W42'].values()] \\\n",
    "        .loc[:,meta.variable_value_labels['F_IDEO'].values()]*100"
   ]
  },
  {
   "cell_type": "code",
   "execution_count": 3,
   "metadata": {},
   "outputs": [
    {
     "data": {
      "text/html": [
       "<div>\n",
       "<style scoped>\n",
       "    .dataframe tbody tr th:only-of-type {\n",
       "        vertical-align: middle;\n",
       "    }\n",
       "\n",
       "    .dataframe tbody tr th {\n",
       "        vertical-align: top;\n",
       "    }\n",
       "\n",
       "    .dataframe thead th {\n",
       "        text-align: right;\n",
       "    }\n",
       "</style>\n",
       "<table border=\"1\" class=\"dataframe\">\n",
       "  <thead>\n",
       "    <tr style=\"text-align: right;\">\n",
       "      <th></th>\n",
       "      <th>WEIGHT_W42</th>\n",
       "    </tr>\n",
       "    <tr>\n",
       "      <th>Q6F1_W42</th>\n",
       "      <th></th>\n",
       "    </tr>\n",
       "  </thead>\n",
       "  <tbody>\n",
       "    <tr>\n",
       "      <th>1.0</th>\n",
       "      <td>50.731415</td>\n",
       "    </tr>\n",
       "    <tr>\n",
       "      <th>2.0</th>\n",
       "      <td>10.137040</td>\n",
       "    </tr>\n",
       "    <tr>\n",
       "      <th>3.0</th>\n",
       "      <td>36.231776</td>\n",
       "    </tr>\n",
       "    <tr>\n",
       "      <th>99.0</th>\n",
       "      <td>0.715290</td>\n",
       "    </tr>\n",
       "  </tbody>\n",
       "</table>\n",
       "</div>"
      ],
      "text/plain": [
       "          WEIGHT_W42\n",
       "Q6F1_W42            \n",
       "1.0        50.731415\n",
       "2.0        10.137040\n",
       "3.0        36.231776\n",
       "99.0        0.715290"
      ]
     },
     "execution_count": 3,
     "metadata": {},
     "output_type": "execute_result"
    }
   ],
   "source": [
    "# Accounting for weight in determing response to Q6F1 from FORM 2\n",
    "\n",
    "df[['Q6F1_W42', 'WEIGHT_W42']].groupby('Q6F1_W42') \\\n",
    "                              .sum() / df.loc[df['FORM_W42'] == 2.0, ['WEIGHT_W42']].sum() * 100"
   ]
  },
  {
   "cell_type": "code",
   "execution_count": null,
   "metadata": {},
   "outputs": [],
   "source": []
  },
  {
   "cell_type": "code",
   "execution_count": null,
   "metadata": {},
   "outputs": [],
   "source": []
  }
 ],
 "metadata": {
  "kernelspec": {
   "display_name": "Python 3",
   "language": "python",
   "name": "python3"
  },
  "language_info": {
   "codemirror_mode": {
    "name": "ipython",
    "version": 3
   },
   "file_extension": ".py",
   "mimetype": "text/x-python",
   "name": "python",
   "nbconvert_exporter": "python",
   "pygments_lexer": "ipython3",
   "version": "3.7.6"
  }
 },
 "nbformat": 4,
 "nbformat_minor": 4
}
